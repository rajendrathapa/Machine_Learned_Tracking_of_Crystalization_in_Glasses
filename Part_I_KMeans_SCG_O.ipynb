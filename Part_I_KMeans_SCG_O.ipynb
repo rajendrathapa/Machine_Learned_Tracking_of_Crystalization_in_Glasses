{
 "cells": [
  {
   "cell_type": "markdown",
   "id": "28871014",
   "metadata": {},
   "source": [
    "Part I: \n",
    "- runs all loading of the .dump files\n",
    "- divides the loaded data into chunks: one chunk for each snapshot\n",
    "- calculates the computationally heavy calculation of disp, N_N, d_5NN etc\n",
    "- saves the dataframes with all required features into the features_csv folder\n",
    "\n",
    "NB: All clustering algorithm calculation will be done in Part II\n",
    "\n",
    "\n",
    "# Clustering Algorithm applied to atom classification\n",
    "\n",
    "- Clustering algorithm used to classify atoms as crystal-like and glass-like based on the features\n",
    "- Clustering applied to each snapshot\n",
    "- Program must be run from the directory that contains individual directory for each snapshot\n",
    "- Each directory must be named in a pre-defined fashion (0000ps, 0100ps, 0200ps,............., 2000ps)"
   ]
  },
  {
   "cell_type": "code",
   "execution_count": 1,
   "id": "fddb7e54",
   "metadata": {},
   "outputs": [],
   "source": [
    "import pyprind \n",
    "import pandas as pd\n",
    "import numpy as np\n",
    "import os\n",
    "import matplotlib.pyplot as plt"
   ]
  },
  {
   "cell_type": "markdown",
   "id": "fcb3758b",
   "metadata": {},
   "source": [
    "- *.dump file contains the dump obtained from the lammps output (Has all the LAMMPS calculated quantities for each atom)\n",
    "- LAMMPS does not arrange the atoms in order of their indices like DL-POLY does"
   ]
  },
  {
   "cell_type": "code",
   "execution_count": 2,
   "id": "d643f392",
   "metadata": {},
   "outputs": [],
   "source": [
    "import glob, os\n",
    "\n",
    "def load_dump_files(file_path, label):\n",
    "    '''Inputs:\n",
    "        file_path=path to the directories where the dump files are located\n",
    "        label = ID for the atom to be pulled out from the LAMMPS dump file\n",
    "       Outputs:\n",
    "        dump_contents = contents of variable values form all the snapshots in chronological order\n",
    "        num_snaps = total number of snapshots present in the study       \n",
    "        box = list of the box size at each snapshot\n",
    "    '''\n",
    "    dump_contents, box = [],[]\n",
    "    files = sorted(glob.glob(file_path, recursive=True)) # sorts dump files in chronological order\n",
    "    num_snaps = 0\n",
    "    for filename in files:\n",
    "        num_snaps += 1\n",
    "        with open(filename, 'r',encoding='utf-8') as infile:\n",
    "            print(filename)\n",
    "            txt = infile.readlines()\n",
    "            # Skip first 9 lines that contains system information not coordinates\n",
    "            for line in txt[9:]:                        \n",
    "                if line.split()[1] == label: \n",
    "                    dump_contents.append(np.array(line.split()).astype(float) )\n",
    "            box.append(float(txt[5].split()[1]) - float(txt[5].split()[0]))\n",
    "    return dump_contents, num_snaps, box\n"
   ]
  },
  {
   "cell_type": "code",
   "execution_count": 3,
   "id": "58ef7fd1",
   "metadata": {},
   "outputs": [
    {
     "name": "stdout",
     "output_type": "stream",
     "text": [
      "./0000ps/0ps.dump\n",
      "./0100ps/100ps.dump\n",
      "./0200ps/200ps.dump\n",
      "./0300ps/300ps.dump\n",
      "./0400ps/400ps.dump\n",
      "./0500ps/500ps.dump\n",
      "./0600ps/600ps.dump\n",
      "./0700ps/700ps.dump\n",
      "./0800ps/800ps.dump\n",
      "./0900ps/900ps.dump\n",
      "./1000ps/1000ps.dump\n",
      "./1100ps/1100ps.dump\n",
      "./1200ps/1200ps.dump\n",
      "./1300ps/1300ps.dump\n",
      "./1400ps/1400ps.dump\n",
      "./1500ps/1500ps.dump\n",
      "./1600ps/1600ps.dump\n",
      "./1700ps/1700ps.dump\n",
      "./1800ps/1800ps.dump\n",
      "./1900ps/1900ps.dump\n",
      "./2000ps/2000ps.dump\n",
      "./2100ps/2100ps.dump\n",
      "./2200ps/2200ps.dump\n",
      "./2300ps/2300ps.dump\n",
      "./2400ps/2400ps.dump\n",
      "./2500ps/2500ps.dump\n",
      "./2600ps/2600ps.dump\n",
      "./2700ps/2700ps.dump\n"
     ]
    }
   ],
   "source": [
    "# label=\"3\" for O, \"2\" for Nb, \"1\" for Li\n",
    "# The description of crystallization based on the oxygen network and order is unique in the study of nucleation.\n",
    "dump_contents, num_snaps, box = load_dump_files(file_path = './*/**.dump', label=\"3\")"
   ]
  },
  {
   "cell_type": "code",
   "execution_count": 4,
   "id": "7218fc3d",
   "metadata": {},
   "outputs": [
    {
     "name": "stdout",
     "output_type": "stream",
     "text": [
      "No. of atoms: 59856 \n",
      "No. of snaps: 28\n"
     ]
    }
   ],
   "source": [
    "NAT=(int(len(dump_contents)/num_snaps))\n",
    "print(\"No. of atoms: %d \\nNo. of snaps: %d\"%(NAT, num_snaps))\n"
   ]
  },
  {
   "cell_type": "code",
   "execution_count": 5,
   "id": "e6a673a2",
   "metadata": {},
   "outputs": [
    {
     "name": "stdout",
     "output_type": "stream",
     "text": [
      "<class 'pandas.core.frame.DataFrame'>\n",
      "RangeIndex: 1675968 entries, 0 to 1675967\n",
      "Data columns (total 14 columns):\n",
      " #   Column  Non-Null Count    Dtype  \n",
      "---  ------  --------------    -----  \n",
      " 0   ID      1675968 non-null  float64\n",
      " 1   Atom    1675968 non-null  float64\n",
      " 2   x       1675968 non-null  float64\n",
      " 3   y       1675968 non-null  float64\n",
      " 4   z       1675968 non-null  float64\n",
      " 5   Q4      1675968 non-null  float64\n",
      " 6   Q6      1675968 non-null  float64\n",
      " 7   Q8      1675968 non-null  float64\n",
      " 8   Q10     1675968 non-null  float64\n",
      " 9   Nc_6    1675968 non-null  float64\n",
      " 10  Nc_8    1675968 non-null  float64\n",
      " 11  c_x     1675968 non-null  float64\n",
      " 12  c_y     1616112 non-null  float64\n",
      " 13  c_z     1616112 non-null  float64\n",
      "dtypes: float64(14)\n",
      "memory usage: 179.0 MB\n"
     ]
    }
   ],
   "source": [
    "# Convert the dump_contents list into a dataframe and name the columns\n",
    "df = pd.DataFrame(dump_contents)\n",
    "\n",
    "df.columns=['ID',\"Atom\",\"x\",\"y\",\"z\",\"Q4\",\"Q6\",\"Q8\",\"Q10\",\"Nc_6\",\"Nc_8\",\"c_x\",\"c_y\",\"c_z\"]\n",
    "df.info()"
   ]
  },
  {
   "cell_type": "code",
   "execution_count": 6,
   "id": "9a57a4b3",
   "metadata": {},
   "outputs": [
    {
     "name": "stdout",
     "output_type": "stream",
     "text": [
      "<class 'pandas.core.frame.DataFrame'>\n",
      "RangeIndex: 1675968 entries, 0 to 1675967\n",
      "Data columns (total 14 columns):\n",
      " #   Column  Non-Null Count    Dtype  \n",
      "---  ------  --------------    -----  \n",
      " 0   ID      1675968 non-null  int64  \n",
      " 1   Atom    1675968 non-null  int64  \n",
      " 2   x       1675968 non-null  float64\n",
      " 3   y       1675968 non-null  float64\n",
      " 4   z       1675968 non-null  float64\n",
      " 5   Q4      1675968 non-null  float64\n",
      " 6   Q6      1675968 non-null  float64\n",
      " 7   Q8      1675968 non-null  float64\n",
      " 8   Q10     1675968 non-null  float64\n",
      " 9   Nc_6    1675968 non-null  int64  \n",
      " 10  Nc_8    1675968 non-null  int64  \n",
      " 11  c_x     1675968 non-null  float64\n",
      " 12  c_y     1616112 non-null  float64\n",
      " 13  c_z     1616112 non-null  float64\n",
      "dtypes: float64(10), int64(4)\n",
      "memory usage: 179.0 MB\n"
     ]
    }
   ],
   "source": [
    "# Change the data type of the columns appropriately\n",
    "df = df.astype({\"ID\": int, \"Atom\": int, \"Nc_6\":int, \"Nc_8\":int})\n",
    "df.info()"
   ]
  },
  {
   "cell_type": "markdown",
   "id": "9f5a4e21",
   "metadata": {},
   "source": [
    "### Feature Engineering begins here\n",
    "\n",
    "- Create a calculated column the find the distance from the center\n",
    "- Remember the system has center at (0,0,0)\n",
    "- Keep only columns that will be needed later"
   ]
  },
  {
   "cell_type": "code",
   "execution_count": 7,
   "id": "9b4ad96f",
   "metadata": {},
   "outputs": [
    {
     "data": {
      "text/html": [
       "<div>\n",
       "<style scoped>\n",
       "    .dataframe tbody tr th:only-of-type {\n",
       "        vertical-align: middle;\n",
       "    }\n",
       "\n",
       "    .dataframe tbody tr th {\n",
       "        vertical-align: top;\n",
       "    }\n",
       "\n",
       "    .dataframe thead th {\n",
       "        text-align: right;\n",
       "    }\n",
       "</style>\n",
       "<table border=\"1\" class=\"dataframe\">\n",
       "  <thead>\n",
       "    <tr style=\"text-align: right;\">\n",
       "      <th></th>\n",
       "      <th>ID</th>\n",
       "      <th>x</th>\n",
       "      <th>y</th>\n",
       "      <th>z</th>\n",
       "      <th>Q6</th>\n",
       "      <th>Nc_6</th>\n",
       "      <th>dist_from_c</th>\n",
       "    </tr>\n",
       "  </thead>\n",
       "  <tbody>\n",
       "    <tr>\n",
       "      <th>count</th>\n",
       "      <td>1.675968e+06</td>\n",
       "      <td>1.675968e+06</td>\n",
       "      <td>1.675968e+06</td>\n",
       "      <td>1.675968e+06</td>\n",
       "      <td>1.675968e+06</td>\n",
       "      <td>1.675968e+06</td>\n",
       "      <td>1.675968e+06</td>\n",
       "    </tr>\n",
       "    <tr>\n",
       "      <th>mean</th>\n",
       "      <td>6.982450e+04</td>\n",
       "      <td>2.685557e-02</td>\n",
       "      <td>-5.622604e-02</td>\n",
       "      <td>-2.433589e-03</td>\n",
       "      <td>2.778618e-01</td>\n",
       "      <td>3.301576e+00</td>\n",
       "      <td>5.335600e+01</td>\n",
       "    </tr>\n",
       "    <tr>\n",
       "      <th>std</th>\n",
       "      <td>1.727894e+04</td>\n",
       "      <td>3.207758e+01</td>\n",
       "      <td>3.209158e+01</td>\n",
       "      <td>3.209946e+01</td>\n",
       "      <td>4.936587e-02</td>\n",
       "      <td>3.925756e+00</td>\n",
       "      <td>1.556780e+01</td>\n",
       "    </tr>\n",
       "    <tr>\n",
       "      <th>min</th>\n",
       "      <td>3.989700e+04</td>\n",
       "      <td>-5.590580e+01</td>\n",
       "      <td>-5.591110e+01</td>\n",
       "      <td>-5.591010e+01</td>\n",
       "      <td>6.698710e-02</td>\n",
       "      <td>0.000000e+00</td>\n",
       "      <td>6.535469e-01</td>\n",
       "    </tr>\n",
       "    <tr>\n",
       "      <th>25%</th>\n",
       "      <td>5.486075e+04</td>\n",
       "      <td>-2.766750e+01</td>\n",
       "      <td>-2.777853e+01</td>\n",
       "      <td>-2.775860e+01</td>\n",
       "      <td>2.440517e-01</td>\n",
       "      <td>1.000000e+00</td>\n",
       "      <td>4.329896e+01</td>\n",
       "    </tr>\n",
       "    <tr>\n",
       "      <th>50%</th>\n",
       "      <td>6.982450e+04</td>\n",
       "      <td>7.893890e-02</td>\n",
       "      <td>-1.024715e-01</td>\n",
       "      <td>3.118265e-02</td>\n",
       "      <td>2.773570e-01</td>\n",
       "      <td>2.000000e+00</td>\n",
       "      <td>5.471922e+01</td>\n",
       "    </tr>\n",
       "    <tr>\n",
       "      <th>75%</th>\n",
       "      <td>8.478825e+04</td>\n",
       "      <td>2.771160e+01</td>\n",
       "      <td>2.766250e+01</td>\n",
       "      <td>2.772920e+01</td>\n",
       "      <td>3.109890e-01</td>\n",
       "      <td>4.000000e+00</td>\n",
       "      <td>6.450281e+01</td>\n",
       "    </tr>\n",
       "    <tr>\n",
       "      <th>max</th>\n",
       "      <td>9.975200e+04</td>\n",
       "      <td>5.591270e+01</td>\n",
       "      <td>5.591240e+01</td>\n",
       "      <td>5.591020e+01</td>\n",
       "      <td>4.923200e-01</td>\n",
       "      <td>3.300000e+01</td>\n",
       "      <td>9.614216e+01</td>\n",
       "    </tr>\n",
       "  </tbody>\n",
       "</table>\n",
       "</div>"
      ],
      "text/plain": [
       "                 ID             x             y             z            Q6  \\\n",
       "count  1.675968e+06  1.675968e+06  1.675968e+06  1.675968e+06  1.675968e+06   \n",
       "mean   6.982450e+04  2.685557e-02 -5.622604e-02 -2.433589e-03  2.778618e-01   \n",
       "std    1.727894e+04  3.207758e+01  3.209158e+01  3.209946e+01  4.936587e-02   \n",
       "min    3.989700e+04 -5.590580e+01 -5.591110e+01 -5.591010e+01  6.698710e-02   \n",
       "25%    5.486075e+04 -2.766750e+01 -2.777853e+01 -2.775860e+01  2.440517e-01   \n",
       "50%    6.982450e+04  7.893890e-02 -1.024715e-01  3.118265e-02  2.773570e-01   \n",
       "75%    8.478825e+04  2.771160e+01  2.766250e+01  2.772920e+01  3.109890e-01   \n",
       "max    9.975200e+04  5.591270e+01  5.591240e+01  5.591020e+01  4.923200e-01   \n",
       "\n",
       "               Nc_6   dist_from_c  \n",
       "count  1.675968e+06  1.675968e+06  \n",
       "mean   3.301576e+00  5.335600e+01  \n",
       "std    3.925756e+00  1.556780e+01  \n",
       "min    0.000000e+00  6.535469e-01  \n",
       "25%    1.000000e+00  4.329896e+01  \n",
       "50%    2.000000e+00  5.471922e+01  \n",
       "75%    4.000000e+00  6.450281e+01  \n",
       "max    3.300000e+01  9.614216e+01  "
      ]
     },
     "execution_count": 7,
     "metadata": {},
     "output_type": "execute_result"
    }
   ],
   "source": [
    "# Remember the center of our system is (0,0,0). If otherwise, you need to change the equation for df['dist_from_c']\n",
    "df['dist_from_c'] = np.sqrt((df['x']**2+df['y']**2+df['z']**2))\n",
    "df = df[['ID','x','y','z','Q6','Nc_6','dist_from_c']]\n",
    "df.describe()"
   ]
  },
  {
   "cell_type": "markdown",
   "id": "9d827770",
   "metadata": {},
   "source": [
    "__Looks exactly the way we want our data to be!__\n",
    "\n",
    "- To perform clustering on each snapshot, we need to divide the dataframe into chunks for each snapshot\n",
    "- Each chunk must have NAT atoms\n",
    "- Each chunk needs to be sorted because the LAMMPS dump does not sort by ID"
   ]
  },
  {
   "cell_type": "code",
   "execution_count": 8,
   "id": "7e43ed18",
   "metadata": {},
   "outputs": [
    {
     "data": {
      "text/html": [
       "<div>\n",
       "<style scoped>\n",
       "    .dataframe tbody tr th:only-of-type {\n",
       "        vertical-align: middle;\n",
       "    }\n",
       "\n",
       "    .dataframe tbody tr th {\n",
       "        vertical-align: top;\n",
       "    }\n",
       "\n",
       "    .dataframe thead th {\n",
       "        text-align: right;\n",
       "    }\n",
       "</style>\n",
       "<table border=\"1\" class=\"dataframe\">\n",
       "  <thead>\n",
       "    <tr style=\"text-align: right;\">\n",
       "      <th></th>\n",
       "      <th>ID</th>\n",
       "      <th>x</th>\n",
       "      <th>y</th>\n",
       "      <th>z</th>\n",
       "      <th>Q6</th>\n",
       "      <th>Nc_6</th>\n",
       "      <th>dist_from_c</th>\n",
       "    </tr>\n",
       "  </thead>\n",
       "  <tbody>\n",
       "    <tr>\n",
       "      <th>count</th>\n",
       "      <td>59856.000000</td>\n",
       "      <td>59856.000000</td>\n",
       "      <td>59856.000000</td>\n",
       "      <td>59856.000000</td>\n",
       "      <td>59856.000000</td>\n",
       "      <td>59856.000000</td>\n",
       "      <td>59856.000000</td>\n",
       "    </tr>\n",
       "    <tr>\n",
       "      <th>mean</th>\n",
       "      <td>69824.500000</td>\n",
       "      <td>-0.003017</td>\n",
       "      <td>0.009743</td>\n",
       "      <td>0.005227</td>\n",
       "      <td>0.276435</td>\n",
       "      <td>3.088512</td>\n",
       "      <td>50.548620</td>\n",
       "    </tr>\n",
       "    <tr>\n",
       "      <th>std</th>\n",
       "      <td>17279.083193</td>\n",
       "      <td>30.385120</td>\n",
       "      <td>30.380537</td>\n",
       "      <td>30.395567</td>\n",
       "      <td>0.046194</td>\n",
       "      <td>3.540406</td>\n",
       "      <td>14.660063</td>\n",
       "    </tr>\n",
       "    <tr>\n",
       "      <th>min</th>\n",
       "      <td>39897.000000</td>\n",
       "      <td>-52.651100</td>\n",
       "      <td>-52.650900</td>\n",
       "      <td>-52.651400</td>\n",
       "      <td>0.092997</td>\n",
       "      <td>0.000000</td>\n",
       "      <td>1.410636</td>\n",
       "    </tr>\n",
       "    <tr>\n",
       "      <th>25%</th>\n",
       "      <td>54860.750000</td>\n",
       "      <td>-26.358525</td>\n",
       "      <td>-26.267950</td>\n",
       "      <td>-26.327000</td>\n",
       "      <td>0.245599</td>\n",
       "      <td>1.000000</td>\n",
       "      <td>41.124501</td>\n",
       "    </tr>\n",
       "    <tr>\n",
       "      <th>50%</th>\n",
       "      <td>69824.500000</td>\n",
       "      <td>0.017740</td>\n",
       "      <td>-0.033549</td>\n",
       "      <td>0.075221</td>\n",
       "      <td>0.277099</td>\n",
       "      <td>2.000000</td>\n",
       "      <td>51.835743</td>\n",
       "    </tr>\n",
       "    <tr>\n",
       "      <th>75%</th>\n",
       "      <td>84788.250000</td>\n",
       "      <td>26.269750</td>\n",
       "      <td>26.312100</td>\n",
       "      <td>26.317175</td>\n",
       "      <td>0.308125</td>\n",
       "      <td>4.000000</td>\n",
       "      <td>61.056458</td>\n",
       "    </tr>\n",
       "    <tr>\n",
       "      <th>max</th>\n",
       "      <td>99752.000000</td>\n",
       "      <td>52.648200</td>\n",
       "      <td>52.650500</td>\n",
       "      <td>52.651000</td>\n",
       "      <td>0.467856</td>\n",
       "      <td>32.000000</td>\n",
       "      <td>89.872970</td>\n",
       "    </tr>\n",
       "  </tbody>\n",
       "</table>\n",
       "</div>"
      ],
      "text/plain": [
       "                 ID             x             y             z            Q6  \\\n",
       "count  59856.000000  59856.000000  59856.000000  59856.000000  59856.000000   \n",
       "mean   69824.500000     -0.003017      0.009743      0.005227      0.276435   \n",
       "std    17279.083193     30.385120     30.380537     30.395567      0.046194   \n",
       "min    39897.000000    -52.651100    -52.650900    -52.651400      0.092997   \n",
       "25%    54860.750000    -26.358525    -26.267950    -26.327000      0.245599   \n",
       "50%    69824.500000      0.017740     -0.033549      0.075221      0.277099   \n",
       "75%    84788.250000     26.269750     26.312100     26.317175      0.308125   \n",
       "max    99752.000000     52.648200     52.650500     52.651000      0.467856   \n",
       "\n",
       "               Nc_6   dist_from_c  \n",
       "count  59856.000000  59856.000000  \n",
       "mean       3.088512     50.548620  \n",
       "std        3.540406     14.660063  \n",
       "min        0.000000      1.410636  \n",
       "25%        1.000000     41.124501  \n",
       "50%        2.000000     51.835743  \n",
       "75%        4.000000     61.056458  \n",
       "max       32.000000     89.872970  "
      ]
     },
     "execution_count": 8,
     "metadata": {},
     "output_type": "execute_result"
    }
   ],
   "source": [
    "split_dataframes = [df[i:i+NAT] for i in range(0, len(df), NAT)]\n",
    "sorted_chunks = [chunk.sort_values(by='ID') for chunk in split_dataframes]\n",
    "\n",
    "# If you want to see what the chunks look like, uncomment the lines below\n",
    "# for i, split_df in enumerate(sorted_chunks):\n",
    "#     print(f\"DataFrame {i + 1}:\")\n",
    "#     print(split_df)\n",
    "#     print()\n",
    "\n",
    "# Use the describe method to check the details of one of the chunks\n",
    "# count row must have values equal to NAT\n",
    "sorted_chunks[0].describe()\n"
   ]
  },
  {
   "cell_type": "markdown",
   "id": "7f6b3b0e",
   "metadata": {},
   "source": [
    "## One more feature (Displacement)\n",
    "\n",
    "\n",
    "### __How do we calculate the displacement feature?__   \n",
    "- For each snapshot, calculate the disp for each atom at four different 5ps snaps just before or after the snap\n",
    "- For e.g, the disp for 200ps is calculated as the average of the disp at 195 ps, 190ps, 185ps, 180ps\n",
    "- disp at 195: dist(r_195ps, r_190ps)\n",
    "- We need to pull out the coordinates from the HISTORY file to do so"
   ]
  },
  {
   "cell_type": "code",
   "execution_count": 9,
   "id": "af7d8756",
   "metadata": {},
   "outputs": [],
   "source": [
    "def periodic_distance(atom, nbd, box):\n",
    "    '''Inputs:\n",
    "        atom = coordinate of a single reference atom\n",
    "        nbd = array of coordinates of multiple atoms\n",
    "        box = length of the box\n",
    "       Outputs:\n",
    "        dis = distance between atom and nbd\n",
    "        len(dis) == len(nbd)\n",
    "    '''\n",
    "    delta = np.abs(atom-nbd)\n",
    "    delta = np.where(delta> 0.5*box, delta-box, delta)\n",
    "    dis = np.sqrt((delta**2).sum(axis=-1))\n",
    "    return dis"
   ]
  },
  {
   "cell_type": "code",
   "execution_count": 10,
   "id": "d78d3c7b",
   "metadata": {},
   "outputs": [
    {
     "name": "stderr",
     "output_type": "stream",
     "text": [
      "Processing: 100%|████████████████████████████████████████████████████████████████████████████████████████| 53867162/53867162 [01:19<00:00, 674110.26it/s]\n"
     ]
    },
    {
     "name": "stdout",
     "output_type": "stream",
     "text": [
      "(16161120, 3)\n",
      "Number of snaps in the HISTORY file is 270\n"
     ]
    }
   ],
   "source": [
    "from tqdm import tqdm\n",
    "\n",
    "search_string = \"O2\"\n",
    "found = False\n",
    "\n",
    "coords_A0=[]\n",
    "with open(\"../A0_HISTORY\", \"r\") as file:\n",
    "    total_lines = sum(1 for _ in file)\n",
    "    file.seek(0)  # Reset the file pointer to the beginning\n",
    "    progress_bar = tqdm(total=total_lines, desc=\"Processing\")\n",
    "\n",
    "    for line in file:\n",
    "        progress_bar.update(1)  # Update the progress bar\n",
    "        if search_string in line:\n",
    "            found = True\n",
    "        elif found:\n",
    "            # Print or store the following line\n",
    "            coords_A0.append(np.asarray(line.split()).astype(float))  # or do something else with the line\n",
    "            found = False\n",
    "\n",
    "    progress_bar.close()  # Close the prog\n",
    "\n",
    "coords_A0 = np.asarray(coords_A0).astype(float)\n",
    "print(np.shape(coords_A0))\n",
    "print(f\"Number of snaps in the HISTORY file is {int(len(coords_A0)/NAT)}\")"
   ]
  },
  {
   "cell_type": "markdown",
   "id": "bf6cf9ba",
   "metadata": {},
   "source": [
    "- 100ps.lammps was taken from the 20st set of coordinates from the A0/HISTORY file. \n",
    "- choose the neighboring sets of coordianates to calculate the displacement. \n",
    "- 100ps - 20\n",
    "- 200ps - 40\n",
    "- 300ps - 60\n",
    "- 1300ps - 260\n",
    "\n",
    "- if you want to pull out the 20set of coordinates you will need the slice coords_A0[19NAT:20NAT, :]\n",
    "\n",
    "- use coords_A0 for calculating disp for 100ps, 200ps, ............., 1300ps.\n",
    " \n",
    "- skipping the calculation on 0ps ( start the loop at 1, i.e. chunks for 100ps)\n",
    "\n",
    "- choose snaps_A0 wisely: Remember how many snaps were taken from A0/HISTORY? Our last snap from A0/HISTORY was 1300ps. So our loop must run for 13 iterations (100ps, 200ps, ............, 1300ps)"
   ]
  },
  {
   "cell_type": "code",
   "execution_count": 11,
   "id": "f052b429",
   "metadata": {},
   "outputs": [
    {
     "name": "stdout",
     "output_type": "stream",
     "text": [
      "1.954269262013389 1.9808518257339711 1.9814221346899366 1.9820693055224636\n",
      "1.9660870698752777 1.9744972707949688 1.993572768141342 1.973576680482272\n",
      "1.9640114132440225 1.986543408743105 1.9665924944491489 1.9765491690526018\n",
      "1.9784189104975805 1.9764203184140594 1.9675666139425816 1.9527079108479175\n",
      "1.9544309153794739 1.966107775051978 1.96814027238471 1.9358950161023933\n",
      "1.977006794221477 1.9578233380894925 1.9898093185380406 1.96141461131459\n",
      "1.9684132359021231 1.9432426687792972 1.9327936784988524 1.9551016103702188\n",
      "1.945749395787879 1.9754965113609788 1.9623123090450445 1.960386786261527\n",
      "1.94791297684581 1.9286032097258823 1.9335415994304332 1.950680223152746\n",
      "1.9552370745115228 1.9450984947643395 1.93201848475848 1.9346397418548844\n",
      "1.8977498401254205 1.9208255803302081 1.9052170862019144 1.917802847941529\n",
      "1.90162691086726 1.8952752306286094 1.884974681975775 1.8989006969376754\n",
      "1.8828486431126257 1.8773006436897843 1.8905286270580426 1.9033183213292981\n"
     ]
    }
   ],
   "source": [
    "snaps_A0 = 13\n",
    "\n",
    "for ind in range(1, snaps_A0+1):\n",
    "    # Locate the starting index for the snapshot 100ps (if ind=1), 200ps(if ind=2),etc.\n",
    "    # 20th set will have slice indices [19*NAT, 20*NAT]\n",
    "    s1 = int((ind*100)/5.-1)*NAT\n",
    "    \n",
    "    snap_ = coords_A0[s1: s1+NAT, :]\n",
    "    nbd_1 = coords_A0[s1-NAT: s1, :]\n",
    "    nbd_2 = coords_A0[s1-2*NAT: s1-NAT, :]\n",
    "    nbd_3 = coords_A0[s1-3*NAT: s1-2*NAT, :]\n",
    "    nbd_4 = coords_A0[s1-4*NAT: s1-3*NAT, :]\n",
    "\n",
    "    d1 = periodic_distance(snap_, nbd_1, box[ind])\n",
    "    d2 = periodic_distance(nbd_1, nbd_2, box[ind])\n",
    "    d3 = periodic_distance(nbd_2, nbd_3, box[ind])\n",
    "    d4 = periodic_distance(nbd_3, nbd_4, box[ind])\n",
    "    print(np.mean(d1), np.mean(d2), np.mean(d3), np.mean(d4))\n",
    "\n",
    "    dist = 0.25*(d1+d2+d3+d4)\n",
    "    sorted_chunks[ind]['disp'] = dist"
   ]
  },
  {
   "cell_type": "code",
   "execution_count": 12,
   "id": "c5ad4f2c",
   "metadata": {},
   "outputs": [
    {
     "data": {
      "text/html": [
       "<div>\n",
       "<style scoped>\n",
       "    .dataframe tbody tr th:only-of-type {\n",
       "        vertical-align: middle;\n",
       "    }\n",
       "\n",
       "    .dataframe tbody tr th {\n",
       "        vertical-align: top;\n",
       "    }\n",
       "\n",
       "    .dataframe thead th {\n",
       "        text-align: right;\n",
       "    }\n",
       "</style>\n",
       "<table border=\"1\" class=\"dataframe\">\n",
       "  <thead>\n",
       "    <tr style=\"text-align: right;\">\n",
       "      <th></th>\n",
       "      <th>ID</th>\n",
       "      <th>x</th>\n",
       "      <th>y</th>\n",
       "      <th>z</th>\n",
       "      <th>Q6</th>\n",
       "      <th>Nc_6</th>\n",
       "      <th>dist_from_c</th>\n",
       "      <th>disp</th>\n",
       "    </tr>\n",
       "  </thead>\n",
       "  <tbody>\n",
       "    <tr>\n",
       "      <th>count</th>\n",
       "      <td>59856.000000</td>\n",
       "      <td>59856.000000</td>\n",
       "      <td>59856.000000</td>\n",
       "      <td>59856.000000</td>\n",
       "      <td>59856.000000</td>\n",
       "      <td>59856.000000</td>\n",
       "      <td>59856.000000</td>\n",
       "      <td>59856.000000</td>\n",
       "    </tr>\n",
       "    <tr>\n",
       "      <th>mean</th>\n",
       "      <td>69824.500000</td>\n",
       "      <td>0.048703</td>\n",
       "      <td>-0.076837</td>\n",
       "      <td>0.030150</td>\n",
       "      <td>0.275886</td>\n",
       "      <td>2.874582</td>\n",
       "      <td>53.539631</td>\n",
       "      <td>1.888499</td>\n",
       "    </tr>\n",
       "    <tr>\n",
       "      <th>std</th>\n",
       "      <td>17279.083193</td>\n",
       "      <td>32.177643</td>\n",
       "      <td>32.197117</td>\n",
       "      <td>32.219435</td>\n",
       "      <td>0.048826</td>\n",
       "      <td>3.281969</td>\n",
       "      <td>15.608212</td>\n",
       "      <td>0.720493</td>\n",
       "    </tr>\n",
       "    <tr>\n",
       "      <th>min</th>\n",
       "      <td>39897.000000</td>\n",
       "      <td>-55.860200</td>\n",
       "      <td>-55.857100</td>\n",
       "      <td>-55.860800</td>\n",
       "      <td>0.103095</td>\n",
       "      <td>0.000000</td>\n",
       "      <td>1.333034</td>\n",
       "      <td>0.250888</td>\n",
       "    </tr>\n",
       "    <tr>\n",
       "      <th>25%</th>\n",
       "      <td>54860.750000</td>\n",
       "      <td>-27.724125</td>\n",
       "      <td>-27.954425</td>\n",
       "      <td>-27.820925</td>\n",
       "      <td>0.242528</td>\n",
       "      <td>1.000000</td>\n",
       "      <td>43.496959</td>\n",
       "      <td>1.409050</td>\n",
       "    </tr>\n",
       "    <tr>\n",
       "      <th>50%</th>\n",
       "      <td>69824.500000</td>\n",
       "      <td>0.090033</td>\n",
       "      <td>-0.166599</td>\n",
       "      <td>0.035792</td>\n",
       "      <td>0.275308</td>\n",
       "      <td>2.000000</td>\n",
       "      <td>54.953204</td>\n",
       "      <td>1.869275</td>\n",
       "    </tr>\n",
       "    <tr>\n",
       "      <th>75%</th>\n",
       "      <td>84788.250000</td>\n",
       "      <td>27.791950</td>\n",
       "      <td>27.741400</td>\n",
       "      <td>27.906975</td>\n",
       "      <td>0.308891</td>\n",
       "      <td>3.000000</td>\n",
       "      <td>64.701935</td>\n",
       "      <td>2.348328</td>\n",
       "    </tr>\n",
       "    <tr>\n",
       "      <th>max</th>\n",
       "      <td>99752.000000</td>\n",
       "      <td>55.861800</td>\n",
       "      <td>55.861900</td>\n",
       "      <td>55.862400</td>\n",
       "      <td>0.480002</td>\n",
       "      <td>30.000000</td>\n",
       "      <td>95.343813</td>\n",
       "      <td>6.212589</td>\n",
       "    </tr>\n",
       "  </tbody>\n",
       "</table>\n",
       "</div>"
      ],
      "text/plain": [
       "                 ID             x             y             z            Q6  \\\n",
       "count  59856.000000  59856.000000  59856.000000  59856.000000  59856.000000   \n",
       "mean   69824.500000      0.048703     -0.076837      0.030150      0.275886   \n",
       "std    17279.083193     32.177643     32.197117     32.219435      0.048826   \n",
       "min    39897.000000    -55.860200    -55.857100    -55.860800      0.103095   \n",
       "25%    54860.750000    -27.724125    -27.954425    -27.820925      0.242528   \n",
       "50%    69824.500000      0.090033     -0.166599      0.035792      0.275308   \n",
       "75%    84788.250000     27.791950     27.741400     27.906975      0.308891   \n",
       "max    99752.000000     55.861800     55.861900     55.862400      0.480002   \n",
       "\n",
       "               Nc_6   dist_from_c          disp  \n",
       "count  59856.000000  59856.000000  59856.000000  \n",
       "mean       2.874582     53.539631      1.888499  \n",
       "std        3.281969     15.608212      0.720493  \n",
       "min        0.000000      1.333034      0.250888  \n",
       "25%        1.000000     43.496959      1.409050  \n",
       "50%        2.000000     54.953204      1.869275  \n",
       "75%        3.000000     64.701935      2.348328  \n",
       "max       30.000000     95.343813      6.212589  "
      ]
     },
     "execution_count": 12,
     "metadata": {},
     "output_type": "execute_result"
    }
   ],
   "source": [
    "sorted_chunks[13].describe()"
   ]
  },
  {
   "cell_type": "markdown",
   "id": "d16f6297",
   "metadata": {},
   "source": [
    "__Great! We now have two new features added to our data__\n",
    "- Let us do the same for the A1/HISTORY"
   ]
  },
  {
   "cell_type": "code",
   "execution_count": 13,
   "id": "bc12e897",
   "metadata": {},
   "outputs": [
    {
     "name": "stderr",
     "output_type": "stream",
     "text": [
      "Processing: 100%|████████████████████████████████████████████████████████████████████████████████████████| 53867162/53867162 [01:20<00:00, 671524.33it/s]\n"
     ]
    },
    {
     "name": "stdout",
     "output_type": "stream",
     "text": [
      "(16161120, 3)\n",
      "Number of snaps in the HISTORY file is 270.\n"
     ]
    }
   ],
   "source": [
    "found = False\n",
    "\n",
    "coords_A1=[]\n",
    "with open(\"../A1_HISTORY\", \"r\") as file:\n",
    "    total_lines = sum(1 for _ in file)\n",
    "    file.seek(0)  # Reset the file pointer to the beginning\n",
    "    progress_bar = tqdm(total=total_lines, desc=\"Processing\")\n",
    "    for line in file:\n",
    "        progress_bar.update(1)  # Update the progress bar\n",
    "        if search_string in line:\n",
    "            found = True\n",
    "        elif found:\n",
    "            coords_A1.append(np.asarray(line.split()).astype(float))  # or do something else with the line\n",
    "            found = False\n",
    "    progress_bar.close()  \n",
    "\n",
    "coords_A1 = np.asarray(coords_A1).astype(float)\n",
    "print(np.shape(coords_A1))\n",
    "print(f\"Number of snaps in the HISTORY file is {int(len(coords_A1)/NAT)}.\")"
   ]
  },
  {
   "cell_type": "markdown",
   "id": "90aff565",
   "metadata": {},
   "source": [
    "- 1400ps.lammps was taken from the 10th set of coordinates from the A1/HISTORY file. \n",
    "\n",
    "\n",
    "Let us use coords_A1 for calculating disp for 1400ps, 1500ps, ............., 2700ps."
   ]
  },
  {
   "cell_type": "code",
   "execution_count": 14,
   "id": "61f5161a",
   "metadata": {},
   "outputs": [
    {
     "name": "stdout",
     "output_type": "stream",
     "text": [
      "1.8830218324629164 1.8861109808991299 1.8641183285061809 1.8858047448915842\n",
      "1.845627848467931 1.845715751510633 1.8749425959784 1.8504076308890685\n",
      "1.8028506335667005 1.8282730189667147 1.8280865694932729 1.849061462215588\n",
      "1.8106634140009212 1.807127708479236 1.856655557025871 1.8213745664632703\n",
      "1.7876241932894916 1.7774888070005208 1.7874628203428833 1.800478957580593\n",
      "1.755290865128863 1.757141006283791 1.7621868553955653 1.7764303499182967\n",
      "1.7316115243302457 1.761639226807824 1.7363694601940958 1.743411341841758\n",
      "1.683409650792908 1.6970993100422576 1.6892385272470136 1.6701705573464416\n",
      "1.6748784935354857 1.6854333746178625 1.6642631253559748 1.6574282845506374\n",
      "1.6532873247035802 1.6499178034194852 1.6464083476686193 1.654312137308095\n",
      "1.573861961863383 1.567330847916524 1.596586809171342 1.5865092724243703\n",
      "1.5106704839659582 1.5189145265952355 1.5297735206519627 1.537195690634757\n",
      "1.4749987378068388 1.44646302027409 1.4679638515043278 1.4568668975363677\n",
      "1.4157735368135138 1.4044142439810388 1.4039806954352534 1.3990613949141946\n"
     ]
    }
   ],
   "source": [
    "snaps_A1 = 14\n",
    "for ind in range(1,snaps_A1+1):\n",
    "    s1 = int((ind*100)/5.-11)*NAT\n",
    "\n",
    "    snap_ = coords_A1[s1: s1+NAT, :]\n",
    "    nbd_1 = coords_A1[s1-NAT: s1, :]\n",
    "    nbd_2 = coords_A1[s1-2*NAT: s1-NAT, :]\n",
    "    nbd_3 = coords_A1[s1-3*NAT: s1-2*NAT, :]\n",
    "    nbd_4 = coords_A1[s1-4*NAT: s1-3*NAT, :]\n",
    "    \n",
    "    d1 = periodic_distance(snap_, nbd_1, box[ind])\n",
    "    d2 = periodic_distance(nbd_1, nbd_2, box[ind])\n",
    "    d3 = periodic_distance(nbd_2, nbd_3, box[ind])\n",
    "    d4 = periodic_distance(nbd_3, nbd_4, box[ind])\n",
    "    print(np.mean(d1), np.mean(d2), np.mean(d3), np.mean(d4))\n",
    "\n",
    "\n",
    "    dist = 0.25*(d1+d2+d3+d4)\n",
    "    sorted_chunks[ind+snaps_A0]['disp'] = dist"
   ]
  },
  {
   "cell_type": "markdown",
   "id": "240859b8",
   "metadata": {},
   "source": [
    "sorted_chunks[26].describe()    # This is the last snapshot done"
   ]
  },
  {
   "cell_type": "markdown",
   "id": "35cd4410",
   "metadata": {},
   "source": [
    "- Great the disp features has been added to 100ps, 200ps, .............., 1700ps\n",
    "## More features (d_5NN, N_N)\n",
    "\n",
    "\n",
    "### __How do we calculate these features?__   \n",
    "- __d_5NN__: average distance of 5 nearest neighbors with Nc > 10 \n",
    "- __N_N__: number of atoms with 5A that have Nc > 10"
   ]
  },
  {
   "cell_type": "markdown",
   "id": "0f74c846",
   "metadata": {},
   "source": [
    "__Non parallel version of the code to calculate d_5NN and N_N__\n",
    "\n",
    "This code is highly inefficient as you might guess because it runs only on a single processor"
   ]
  },
  {
   "cell_type": "markdown",
   "id": "553efc7d",
   "metadata": {},
   "source": [
    "for ind in range(1,num_snaps):\n",
    "    '''num_neigh_list = list of number of neighbors within 5A with Nc > 10\n",
    "       avg_neigh_dist = average distance of 5 nearest neighbors with Nc > 10\n",
    "    '''\n",
    "    num_neigh_list, avg_neigh_dist = [], []\n",
    "    df_snap=sorted_chunks[ind]\n",
    "    print(f\"Working on {ind*100} ps.\")\n",
    "    prog_bar = pyprind.ProgBar(len(df_snap))\n",
    "    for j in range(len(df_snap)):\n",
    "        filtered_particles = df_snap[df_snap['Nc_6'] > 10]\n",
    "        particle_row = df_snap.iloc[j]\n",
    "        coordinates = [particle_row['x'], particle_row['y'], particle_row['z']]\n",
    "        distances = periodic_distance(coordinates, filtered_particles[['x','y','z']], box[ind])\n",
    "        sorted_distances = np.sort(distances)\n",
    "        # List of 5 nearest neighbors with Nc > 10\n",
    "        # If the reference atom itself has Nc > 10, the min value of distance will be 0 and that must be removed\n",
    "        nbd_5 = np.mean(sorted_distances[1:6]) if sorted_distances[0] == 0\\\n",
    "                else np.mean(sorted_distances[:5])\n",
    "        avg_neigh_dist.append(nbd_5)\n",
    "        \n",
    "        num_neigh = (len([x for x in distances if x < 5.0]) -1) if min(distances) == 0\\\n",
    "                    else len([x for x in distances if x < 5.0])    \n",
    "        num_neigh_list.append(num_neigh)\n",
    "        prog_bar.update()\n",
    "# Add the list as a column to the dataframe chunk\n",
    "    sorted_chunks[ind]['d_5NN'] = avg_neigh_dist\n",
    "    sorted_chunks[ind]['N_N'] = num_neigh_list\n"
   ]
  },
  {
   "cell_type": "markdown",
   "id": "8ad3f1aa",
   "metadata": {},
   "source": [
    "__d_5NN and N_N calculator using multiprocessing__"
   ]
  },
  {
   "cell_type": "code",
   "execution_count": 17,
   "id": "dc4dcb9b",
   "metadata": {},
   "outputs": [
    {
     "name": "stdout",
     "output_type": "stream",
     "text": [
      "Number of CPU cores available:  8\n"
     ]
    }
   ],
   "source": [
    "import multiprocessing\n",
    "print(\"Number of CPU cores available: \",multiprocessing.cpu_count())\n"
   ]
  },
  {
   "cell_type": "code",
   "execution_count": 18,
   "id": "3054cda4",
   "metadata": {},
   "outputs": [
    {
     "name": "stderr",
     "output_type": "stream",
     "text": [
      "0% [###########################   ] 100% | ETA: 00:00:22\n",
      "Total time elapsed: 00:03:21\n",
      "0% [##############################] 100% | ETA: 00:00:00\n",
      "Total time elapsed: 00:03:30\n",
      "0% [##############################] 100% | ETA: 00:00:00\n",
      "Total time elapsed: 00:03:33\n",
      "0% [##############################] 100% | ETA: 00:00:00\n",
      "Total time elapsed: 00:03:37\n",
      "0% [##############################] 100% | ETA: 00:00:00\n",
      "Total time elapsed: 00:03:41\n",
      "0% [##############################] 100% | ETA: 00:00:00\n",
      "Total time elapsed: 00:03:42\n",
      "0% [##############################] 100% | ETA: 00:00:00\n",
      "Total time elapsed: 00:03:44\n",
      "0% [##############################] 100% | ETA: 00:00:00\n",
      "Total time elapsed: 00:04:04\n",
      "0% [##############################] 100% | ETA: 00:00:00\n",
      "Total time elapsed: 00:03:47\n",
      "0% [##############################] 100% | ETA: 00:00:00\n",
      "Total time elapsed: 00:03:49\n",
      "0% [##############################] 100% | ETA: 00:00:00\n",
      "Total time elapsed: 00:04:07\n",
      "0% [##############################] 100% | ETA: 00:00:00\n",
      "Total time elapsed: 00:04:14\n",
      "0% [##############################] 100% | ETA: 00:00:00\n",
      "Total time elapsed: 00:04:26\n",
      "0% [##############################] 100% | ETA: 00:00:00\n",
      "Total time elapsed: 00:04:35\n",
      "0% [##############################] 100% | ETA: 00:00:00\n",
      "Total time elapsed: 00:04:54\n",
      "0% [##############################] 100% | ETA: 00:00:00\n",
      "Total time elapsed: 00:05:07\n",
      "0% [##############################] 100% | ETA: 00:00:00\n",
      "Total time elapsed: 00:05:41\n",
      "0% [##############################] 100% | ETA: 00:00:00\n",
      "Total time elapsed: 00:05:45\n",
      "0% [##############################] 100% | ETA: 00:00:00\n",
      "Total time elapsed: 00:06:04\n",
      "0% [##############################] 100% | ETA: 00:00:00\n",
      "Total time elapsed: 00:06:27\n",
      "0% [##############################] 100% | ETA: 00:00:00\n",
      "Total time elapsed: 00:06:45\n",
      "0% [##############################] 100% | ETA: 00:00:00\n",
      "Total time elapsed: 00:07:03\n",
      "0% [##############################] 100% | ETA: 00:00:00\n",
      "Total time elapsed: 00:07:04\n",
      "0% [##############################] 100% | ETA: 00:00:00\n",
      "Total time elapsed: 00:07:05\n",
      "0% [##############################] 100% | ETA: 00:00:00\n",
      "Total time elapsed: 00:05:48\n",
      "0% [##############################] 100% | ETA: 00:00:00\n",
      "Total time elapsed: 00:05:54\n",
      "0% [##############################] 100% | ETA: 00:00:00\n",
      "Total time elapsed: 00:05:48\n",
      "0% [##############################] 100% | ETA: 00:00:00\n",
      "Total time elapsed: 00:06:01\n"
     ]
    }
   ],
   "source": [
    "import multiprocessing\n",
    "import pyprind\n",
    "\n",
    "def process_snapshot(args):\n",
    "    df_snap, box = args\n",
    "    num_neigh_list, avg_neigh_dist = [], []\n",
    "    prog_bar = pyprind.ProgBar(len(df_snap))\n",
    "    for j in range(len(df_snap)):\n",
    "        filtered_particles = df_snap[df_snap['Nc_6'] > 10]\n",
    "        particle_row = df_snap.iloc[j]\n",
    "        coordinates = [particle_row['x'], particle_row['y'], particle_row['z']]\n",
    "        distances = periodic_distance(coordinates, filtered_particles[['x','y','z']], box)\n",
    "        sorted_distances = np.sort(distances)\n",
    "        nbd_5 = np.mean(sorted_distances[1:6]) if sorted_distances[0] == 0 else np.mean(sorted_distances[:5])\n",
    "        avg_neigh_dist.append(nbd_5)\n",
    "        num_neigh = (len([x for x in distances if x < 5.0]) - 1) if min(distances) == 0 else len([x for x in distances if x < 5.0])\n",
    "        num_neigh_list.append(num_neigh)\n",
    "        prog_bar.update()\n",
    "    return num_neigh_list, avg_neigh_dist\n",
    "\n",
    "def process_snapshots(sorted_chunks, box):\n",
    "    num_snaps = len(sorted_chunks)\n",
    "    # creates a multiprocessing pool object,\n",
    "    # which allows you to execute functions concurrently across multiple CPUs.\n",
    "    pool = multiprocessing.Pool()\n",
    "    results = pool.map(process_snapshot, [(df_snap, box[ind]) for ind, df_snap in enumerate(sorted_chunks)])\n",
    "    pool.close()\n",
    "    pool.join()\n",
    "    return results\n",
    "\n",
    "# Example usage\n",
    "# sorted_chunks is a list of dataframes containing snapshots\n",
    "# box is a list of box sizes corresponding to each snapshot\n",
    "results = process_snapshots(sorted_chunks, box)\n",
    "\n",
    "# Add the results back to the dataframe chunks\n",
    "for ind, (num_neigh_list, avg_neigh_dist) in enumerate(results):\n",
    "    sorted_chunks[ind]['d_5NN'] = avg_neigh_dist\n",
    "    sorted_chunks[ind]['N_N'] = num_neigh_list\n"
   ]
  },
  {
   "cell_type": "code",
   "execution_count": 19,
   "id": "18da11d2",
   "metadata": {},
   "outputs": [
    {
     "name": "stdout",
     "output_type": "stream",
     "text": [
      "CSV files saved successfully.\n"
     ]
    }
   ],
   "source": [
    "import pandas as pd\n",
    "import os\n",
    "\n",
    "# Create a directory to store CSV files\n",
    "output_directory = \"features_csv\"\n",
    "os.makedirs(output_directory, exist_ok=True)\n",
    "\n",
    "# Loop through the DataFrames and save them as CSV files\n",
    "for ind in range(1, num_snaps):\n",
    "    # Define the file name (you can customize this)\n",
    "    file_name = os.path.join(output_directory, f\"{ind*100}.csv\")\n",
    "    \n",
    "    # Save the DataFrame as a CSV file\n",
    "    sorted_chunks[ind].to_csv(file_name, index=False)\n",
    "\n",
    "print(\"CSV files saved successfully.\")\n"
   ]
  },
  {
   "cell_type": "markdown",
   "id": "7fe24aba",
   "metadata": {},
   "source": [
    "__Let us look at how our variables are correlated__\n"
   ]
  },
  {
   "cell_type": "code",
   "execution_count": 20,
   "id": "c1042b09",
   "metadata": {},
   "outputs": [
    {
     "name": "stderr",
     "output_type": "stream",
     "text": [
      "/home/rat42/anaconda3/lib/python3.10/site-packages/scipy/__init__.py:146: UserWarning: A NumPy version >=1.16.5 and <1.23.0 is required for this version of SciPy (detected version 1.26.2\n",
      "  warnings.warn(f\"A NumPy version >={np_minversion} and <{np_maxversion}\"\n"
     ]
    },
    {
     "data": {
      "image/png": "[encoded data removed]",
      "text/plain": [
       "<Figure size 1000x800 with 1 Axes>"
      ]
     },
     "metadata": {},
     "output_type": "display_data"
    }
   ],
   "source": [
    "import seaborn as sns\n",
    "import matplotlib.pyplot as plt\n",
    "\n",
    "NN_disp_corr, NN_Nc_corr, NN_dist_corr = [],[],[]\n",
    "for ind in range(1,num_snaps):\n",
    "    data = sorted_chunks[ind][['Q6','Nc_6','disp','N_N','dist_from_c']]\n",
    "    correlation_matrix = data.corr()\n",
    "    NN_dist_corr.append(correlation_matrix['N_N'].iloc[4])\n",
    "    NN_disp_corr.append(correlation_matrix['N_N'].iloc[2])\n",
    "    NN_Nc_corr.append(correlation_matrix['N_N'].iloc[1])\n",
    "# Create a heatmap of the correlation matrix\n",
    "plt.figure(figsize=(10, 8))\n",
    "plt.plot(NN_disp_corr, label=\"NN-disp\")\n",
    "plt.plot(NN_dist_corr, label=\"NN-dist\")\n",
    "# plt.plot(NN_Nc_corr, label=\"NN-Nc\")\n",
    "plt.legend()\n",
    "# plt.savefig(\"conf_mat.png\",dpi=500,bbox_inches='tight')\n",
    "plt.show()\n"
   ]
  },
  {
   "cell_type": "code",
   "execution_count": 21,
   "id": "a13a4cde",
   "metadata": {},
   "outputs": [
    {
     "data": {
      "image/png": "[encoded data removed]",
      "text/plain": [
       "<Figure size 1000x800 with 2 Axes>"
      ]
     },
     "metadata": {},
     "output_type": "display_data"
    }
   ],
   "source": [
    "# Create a heatmap of the correlation matrix in the last snapshot\n",
    "plt.figure(figsize=(10, 8))\n",
    "sns.heatmap(correlation_matrix, annot=True, cmap='coolwarm', fmt=\".2f\")\n",
    "plt.savefig(\"conf_mat.png\",dpi=500,bbox_inches='tight')\n",
    "plt.show()\n"
   ]
  },
  {
   "cell_type": "code",
   "execution_count": null,
   "id": "cc2dc65b",
   "metadata": {},
   "outputs": [],
   "source": []
  },
  {
   "cell_type": "code",
   "execution_count": null,
   "id": "528350f6",
   "metadata": {},
   "outputs": [],
   "source": []
  }
 ],
 "metadata": {
  "kernelspec": {
   "display_name": "Python 3 (ipykernel)",
   "language": "python",
   "name": "python3"
  },
  "language_info": {
   "codemirror_mode": {
    "name": "ipython",
    "version": 3
   },
   "file_extension": ".py",
   "mimetype": "text/x-python",
   "name": "python",
   "nbconvert_exporter": "python",
   "pygments_lexer": "ipython3",
   "version": "3.10.9"
  }
 },
 "nbformat": 4,
 "nbformat_minor": 5
}
