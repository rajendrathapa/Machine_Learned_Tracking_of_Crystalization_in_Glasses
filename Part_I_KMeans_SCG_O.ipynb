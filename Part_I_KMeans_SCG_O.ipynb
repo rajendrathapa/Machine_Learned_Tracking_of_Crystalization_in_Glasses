{
 "cells": [
  {
   "cell_type": "markdown",
   "id": "28871014",
   "metadata": {},
   "source": [
    "Part I: \n",
    "- runs all loading of the .dump files\n",
    "- divides the loaded data into chunks: one chunk for each snapshot\n",
    "- calculates the computationally heavy calculation of disp, N_N, d_5NN etc\n",
    "- saves the dataframes with all required features into the features_csv folder\n",
    "\n",
    "NB: All clustering algorithm calculation will be done in Part II\n",
    "\n",
    "\n",
    "# Clustering Algorithm applied to atom classification\n",
    "\n",
    "- Clustering algorithm used to classify atoms as crystal-like and glass-like based on the features\n",
    "- Clustering applied to each snapshot\n",
    "- Program must be run from the directory that contains individual directory for each snapshot\n",
    "- Each directory must be named in a pre-defined fashion (0000ps, 0100ps, 0200ps,............., 2000ps)"
   ]
  },
  {
   "cell_type": "code",
   "execution_count": 1,
   "id": "fddb7e54",
   "metadata": {},
   "outputs": [],
   "source": [
    "import pyprind \n",
    "import pandas as pd\n",
    "import numpy as np\n",
    "import os\n",
    "import matplotlib.pyplot as plt"
   ]
  },
  {
   "cell_type": "markdown",
   "id": "fcb3758b",
   "metadata": {},
   "source": [
    "- *.dump file contains the dump obtained from the lammps output (Has all the LAMMPS calculated quantities for each atom)\n",
    "- LAMMPS does not arrange the atoms in order of their indices like DL-POLY does"
   ]
  },
  {
   "cell_type": "code",
   "execution_count": 2,
   "id": "d643f392",
   "metadata": {},
   "outputs": [],
   "source": [
    "import glob, os\n",
    "\n",
    "def load_dump_files(file_path, label):\n",
    "    '''Inputs:\n",
    "        file_path=path to the directories where the dump files are located\n",
    "        label = ID for the atom in the LAMMPS dump file\n",
    "       Outputs:\n",
    "        dump_contents = contents of variable values form all the snapshots in chronological order\n",
    "        num_snaps = total number of snapshots present in the study       \n",
    "        box = list of the box size at each snapshot\n",
    "    '''\n",
    "    dump_contents, box = [],[]\n",
    "    files = sorted(glob.glob(file_path, recursive=True))\n",
    "    num_snaps = 0\n",
    "    for filename in files:\n",
    "        num_snaps += 1\n",
    "        with open(filename, 'r',encoding='utf-8') as infile:\n",
    "            print(filename)\n",
    "            txt = infile.readlines()\n",
    "            for line in txt[9:]:\n",
    "                if line.split()[1] == label: # \"1\" = Li, \"2\"=Nb, \"3\"=O\n",
    "                    dump_contents.append(np.array(line.split()).astype(float) )\n",
    "            box.append(float(txt[5].split()[1]) - float(txt[5].split()[0]))\n",
    "    return dump_contents, num_snaps, box\n"
   ]
  },
  {
   "cell_type": "code",
   "execution_count": 3,
   "id": "58ef7fd1",
   "metadata": {},
   "outputs": [
    {
     "name": "stdout",
     "output_type": "stream",
     "text": [
      "./0000ps/0ps.dump\n",
      "./0100ps/100ps.dump\n",
      "./0200ps/200ps.dump\n",
      "./0300ps/300ps.dump\n",
      "./0400ps/400ps.dump\n",
      "./0500ps/500ps.dump\n",
      "./0600ps/600ps.dump\n",
      "./0700ps/700ps.dump\n",
      "./0800ps/800ps.dump\n",
      "./0900ps/900ps.dump\n",
      "./1000ps/1000ps.dump\n",
      "./1100ps/1100ps.dump\n",
      "./1200ps/1200ps.dump\n",
      "./1300ps/1300ps.dump\n",
      "./1400ps/1400ps.dump\n",
      "./1500ps/1500ps.dump\n",
      "./1600ps/1600ps.dump\n",
      "./1700ps/1700ps.dump\n",
      "./1800ps/1800ps.dump\n",
      "./1900ps/1900ps.dump\n",
      "./2000ps/2000ps.dump\n",
      "./2100ps/2100ps.dump\n",
      "./2200ps/2200ps.dump\n",
      "./2300ps/2300ps.dump\n"
     ]
    }
   ],
   "source": [
    "# label=\"3\" for O, \"2\" for Nb, \"1\" for Li\n",
    "dump_contents, num_snaps, box = load_dump_files(file_path = './*/**.dump', label=\"3\")"
   ]
  },
  {
   "cell_type": "code",
   "execution_count": 4,
   "id": "11bc66e4",
   "metadata": {},
   "outputs": [
    {
     "name": "stdout",
     "output_type": "stream",
     "text": [
      "[106.1449154154, 113.1489732218, 113.108543005, 113.1765398784, 113.058117359, 113.0600140742, 112.965628167, 112.9430636634, 112.915350435, 112.8978251152, 112.871988558, 112.830578368, 112.7338670678, 112.7896574534, 112.6418809246, 112.6048737548, 112.537980012, 112.5292218986, 112.4503231704, 112.4459016328, 112.424878485, 112.4499270164, 112.37435433, 112.3646831744]\n"
     ]
    }
   ],
   "source": [
    "print(box)"
   ]
  },
  {
   "cell_type": "code",
   "execution_count": 4,
   "id": "7218fc3d",
   "metadata": {},
   "outputs": [
    {
     "name": "stdout",
     "output_type": "stream",
     "text": [
      "No. of atoms: 60720 \n",
      "No. of snaps: 24\n"
     ]
    }
   ],
   "source": [
    "NAT=(int(len(dump_contents)/num_snaps))\n",
    "print(\"No. of atoms: %d \\nNo. of snaps: %d\"%(NAT, num_snaps))\n"
   ]
  },
  {
   "cell_type": "code",
   "execution_count": 5,
   "id": "e6a673a2",
   "metadata": {},
   "outputs": [
    {
     "name": "stdout",
     "output_type": "stream",
     "text": [
      "<class 'pandas.core.frame.DataFrame'>\n",
      "RangeIndex: 1457280 entries, 0 to 1457279\n",
      "Data columns (total 14 columns):\n",
      " #   Column  Non-Null Count    Dtype  \n",
      "---  ------  --------------    -----  \n",
      " 0   ID      1457280 non-null  float64\n",
      " 1   Atom    1457280 non-null  float64\n",
      " 2   x       1457280 non-null  float64\n",
      " 3   y       1457280 non-null  float64\n",
      " 4   z       1457280 non-null  float64\n",
      " 5   Q4      1457280 non-null  float64\n",
      " 6   Q6      1457280 non-null  float64\n",
      " 7   Q8      1457280 non-null  float64\n",
      " 8   Q10     1457280 non-null  float64\n",
      " 9   Nc_6    1457280 non-null  float64\n",
      " 10  Nc_8    1457280 non-null  float64\n",
      " 11  c_x     1457280 non-null  float64\n",
      " 12  c_y     1396560 non-null  float64\n",
      " 13  c_z     1396560 non-null  float64\n",
      "dtypes: float64(14)\n",
      "memory usage: 155.7 MB\n"
     ]
    }
   ],
   "source": [
    "# Convert the dump_contents list into a dataframe and name the columns\n",
    "df = pd.DataFrame(dump_contents)\n",
    "\n",
    "df.columns=['ID',\"Atom\",\"x\",\"y\",\"z\",\"Q4\",\"Q6\",\"Q8\",\"Q10\",\"Nc_6\",\"Nc_8\",\"c_x\",\"c_y\",\"c_z\"]\n",
    "df.info()"
   ]
  },
  {
   "cell_type": "code",
   "execution_count": 6,
   "id": "9a57a4b3",
   "metadata": {},
   "outputs": [
    {
     "name": "stdout",
     "output_type": "stream",
     "text": [
      "<class 'pandas.core.frame.DataFrame'>\n",
      "RangeIndex: 1457280 entries, 0 to 1457279\n",
      "Data columns (total 14 columns):\n",
      " #   Column  Non-Null Count    Dtype  \n",
      "---  ------  --------------    -----  \n",
      " 0   ID      1457280 non-null  int64  \n",
      " 1   Atom    1457280 non-null  int64  \n",
      " 2   x       1457280 non-null  float64\n",
      " 3   y       1457280 non-null  float64\n",
      " 4   z       1457280 non-null  float64\n",
      " 5   Q4      1457280 non-null  float64\n",
      " 6   Q6      1457280 non-null  float64\n",
      " 7   Q8      1457280 non-null  float64\n",
      " 8   Q10     1457280 non-null  float64\n",
      " 9   Nc_6    1457280 non-null  int64  \n",
      " 10  Nc_8    1457280 non-null  int64  \n",
      " 11  c_x     1457280 non-null  float64\n",
      " 12  c_y     1396560 non-null  float64\n",
      " 13  c_z     1396560 non-null  float64\n",
      "dtypes: float64(10), int64(4)\n",
      "memory usage: 155.7 MB\n"
     ]
    }
   ],
   "source": [
    "# Change the data type of the columns appropriately\n",
    "df = df.astype({\"ID\": int, \"Atom\": int, \"Nc_6\":int, \"Nc_8\":int})\n",
    "df.info()"
   ]
  },
  {
   "cell_type": "markdown",
   "id": "9f5a4e21",
   "metadata": {},
   "source": [
    "### Feature Engineering begins here\n",
    "\n",
    "- Create a calculated column the find the distance from the center\n",
    "- Remember the system has center at (0,0,0)\n",
    "- Keep only columns that will be needed later"
   ]
  },
  {
   "cell_type": "code",
   "execution_count": 7,
   "id": "9b4ad96f",
   "metadata": {},
   "outputs": [
    {
     "data": {
      "text/html": [
       "<div>\n",
       "<style scoped>\n",
       "    .dataframe tbody tr th:only-of-type {\n",
       "        vertical-align: middle;\n",
       "    }\n",
       "\n",
       "    .dataframe tbody tr th {\n",
       "        vertical-align: top;\n",
       "    }\n",
       "\n",
       "    .dataframe thead th {\n",
       "        text-align: right;\n",
       "    }\n",
       "</style>\n",
       "<table border=\"1\" class=\"dataframe\">\n",
       "  <thead>\n",
       "    <tr style=\"text-align: right;\">\n",
       "      <th></th>\n",
       "      <th>ID</th>\n",
       "      <th>x</th>\n",
       "      <th>y</th>\n",
       "      <th>z</th>\n",
       "      <th>Q6</th>\n",
       "      <th>Nc_6</th>\n",
       "      <th>dist_from_c</th>\n",
       "    </tr>\n",
       "  </thead>\n",
       "  <tbody>\n",
       "    <tr>\n",
       "      <th>count</th>\n",
       "      <td>1.457280e+06</td>\n",
       "      <td>1.457280e+06</td>\n",
       "      <td>1.457280e+06</td>\n",
       "      <td>1.457280e+06</td>\n",
       "      <td>1.457280e+06</td>\n",
       "      <td>1.457280e+06</td>\n",
       "      <td>1.457280e+06</td>\n",
       "    </tr>\n",
       "    <tr>\n",
       "      <th>mean</th>\n",
       "      <td>6.934650e+04</td>\n",
       "      <td>2.149098e-02</td>\n",
       "      <td>-6.712331e-02</td>\n",
       "      <td>6.902881e-02</td>\n",
       "      <td>2.850517e-01</td>\n",
       "      <td>5.552400e+00</td>\n",
       "      <td>5.362045e+01</td>\n",
       "    </tr>\n",
       "    <tr>\n",
       "      <th>std</th>\n",
       "      <td>1.752836e+04</td>\n",
       "      <td>3.227645e+01</td>\n",
       "      <td>3.227144e+01</td>\n",
       "      <td>3.224347e+01</td>\n",
       "      <td>5.236759e-02</td>\n",
       "      <td>6.155435e+00</td>\n",
       "      <td>1.573885e+01</td>\n",
       "    </tr>\n",
       "    <tr>\n",
       "      <th>min</th>\n",
       "      <td>3.898700e+04</td>\n",
       "      <td>-5.658690e+01</td>\n",
       "      <td>-5.658580e+01</td>\n",
       "      <td>-5.658560e+01</td>\n",
       "      <td>6.792400e-02</td>\n",
       "      <td>0.000000e+00</td>\n",
       "      <td>7.020319e-01</td>\n",
       "    </tr>\n",
       "    <tr>\n",
       "      <th>25%</th>\n",
       "      <td>5.416675e+04</td>\n",
       "      <td>-2.772940e+01</td>\n",
       "      <td>-2.786270e+01</td>\n",
       "      <td>-2.763520e+01</td>\n",
       "      <td>2.487570e-01</td>\n",
       "      <td>1.000000e+00</td>\n",
       "      <td>4.338106e+01</td>\n",
       "    </tr>\n",
       "    <tr>\n",
       "      <th>50%</th>\n",
       "      <td>6.934650e+04</td>\n",
       "      <td>-8.050660e-03</td>\n",
       "      <td>-1.008390e-01</td>\n",
       "      <td>1.050005e-01</td>\n",
       "      <td>2.838500e-01</td>\n",
       "      <td>3.000000e+00</td>\n",
       "      <td>5.495657e+01</td>\n",
       "    </tr>\n",
       "    <tr>\n",
       "      <th>75%</th>\n",
       "      <td>8.452625e+04</td>\n",
       "      <td>2.780213e+01</td>\n",
       "      <td>2.771963e+01</td>\n",
       "      <td>2.781615e+01</td>\n",
       "      <td>3.203342e-01</td>\n",
       "      <td>8.000000e+00</td>\n",
       "      <td>6.488328e+01</td>\n",
       "    </tr>\n",
       "    <tr>\n",
       "      <th>max</th>\n",
       "      <td>9.970600e+04</td>\n",
       "      <td>5.658760e+01</td>\n",
       "      <td>5.658760e+01</td>\n",
       "      <td>5.658670e+01</td>\n",
       "      <td>4.962560e-01</td>\n",
       "      <td>3.500000e+01</td>\n",
       "      <td>9.730568e+01</td>\n",
       "    </tr>\n",
       "  </tbody>\n",
       "</table>\n",
       "</div>"
      ],
      "text/plain": [
       "                 ID             x             y             z            Q6  \\\n",
       "count  1.457280e+06  1.457280e+06  1.457280e+06  1.457280e+06  1.457280e+06   \n",
       "mean   6.934650e+04  2.149098e-02 -6.712331e-02  6.902881e-02  2.850517e-01   \n",
       "std    1.752836e+04  3.227645e+01  3.227144e+01  3.224347e+01  5.236759e-02   \n",
       "min    3.898700e+04 -5.658690e+01 -5.658580e+01 -5.658560e+01  6.792400e-02   \n",
       "25%    5.416675e+04 -2.772940e+01 -2.786270e+01 -2.763520e+01  2.487570e-01   \n",
       "50%    6.934650e+04 -8.050660e-03 -1.008390e-01  1.050005e-01  2.838500e-01   \n",
       "75%    8.452625e+04  2.780213e+01  2.771963e+01  2.781615e+01  3.203342e-01   \n",
       "max    9.970600e+04  5.658760e+01  5.658760e+01  5.658670e+01  4.962560e-01   \n",
       "\n",
       "               Nc_6   dist_from_c  \n",
       "count  1.457280e+06  1.457280e+06  \n",
       "mean   5.552400e+00  5.362045e+01  \n",
       "std    6.155435e+00  1.573885e+01  \n",
       "min    0.000000e+00  7.020319e-01  \n",
       "25%    1.000000e+00  4.338106e+01  \n",
       "50%    3.000000e+00  5.495657e+01  \n",
       "75%    8.000000e+00  6.488328e+01  \n",
       "max    3.500000e+01  9.730568e+01  "
      ]
     },
     "execution_count": 7,
     "metadata": {},
     "output_type": "execute_result"
    }
   ],
   "source": [
    "df['dist_from_c'] = np.sqrt((df['x']**2+df['y']**2+df['z']**2))\n",
    "df = df[['ID','x','y','z','Q6','Nc_6','dist_from_c']]\n",
    "df.describe()"
   ]
  },
  {
   "cell_type": "markdown",
   "id": "9d827770",
   "metadata": {},
   "source": [
    "__Looks exactly the way we want our data to be!__\n",
    "\n",
    "- To perform clustering on each snapshot, we need to divide the dataframe into chunks for each snapshot\n",
    "- Each chunk must have NAT atoms\n",
    "- Each chunk needs to be sorted because the LAMMPS dump does not sort by ID"
   ]
  },
  {
   "cell_type": "code",
   "execution_count": 8,
   "id": "7e43ed18",
   "metadata": {},
   "outputs": [
    {
     "data": {
      "text/html": [
       "<div>\n",
       "<style scoped>\n",
       "    .dataframe tbody tr th:only-of-type {\n",
       "        vertical-align: middle;\n",
       "    }\n",
       "\n",
       "    .dataframe tbody tr th {\n",
       "        vertical-align: top;\n",
       "    }\n",
       "\n",
       "    .dataframe thead th {\n",
       "        text-align: right;\n",
       "    }\n",
       "</style>\n",
       "<table border=\"1\" class=\"dataframe\">\n",
       "  <thead>\n",
       "    <tr style=\"text-align: right;\">\n",
       "      <th></th>\n",
       "      <th>ID</th>\n",
       "      <th>x</th>\n",
       "      <th>y</th>\n",
       "      <th>z</th>\n",
       "      <th>Q6</th>\n",
       "      <th>Nc_6</th>\n",
       "      <th>dist_from_c</th>\n",
       "    </tr>\n",
       "  </thead>\n",
       "  <tbody>\n",
       "    <tr>\n",
       "      <th>count</th>\n",
       "      <td>60720.00000</td>\n",
       "      <td>60720.000000</td>\n",
       "      <td>60720.000000</td>\n",
       "      <td>60720.000000</td>\n",
       "      <td>60720.000000</td>\n",
       "      <td>60720.000000</td>\n",
       "      <td>60720.000000</td>\n",
       "    </tr>\n",
       "    <tr>\n",
       "      <th>mean</th>\n",
       "      <td>69346.50000</td>\n",
       "      <td>-0.046625</td>\n",
       "      <td>-0.008188</td>\n",
       "      <td>-0.002594</td>\n",
       "      <td>0.276680</td>\n",
       "      <td>3.725445</td>\n",
       "      <td>50.948510</td>\n",
       "    </tr>\n",
       "    <tr>\n",
       "      <th>std</th>\n",
       "      <td>17528.49851</td>\n",
       "      <td>30.635311</td>\n",
       "      <td>30.624634</td>\n",
       "      <td>30.623338</td>\n",
       "      <td>0.045565</td>\n",
       "      <td>4.845830</td>\n",
       "      <td>14.777960</td>\n",
       "    </tr>\n",
       "    <tr>\n",
       "      <th>min</th>\n",
       "      <td>38987.00000</td>\n",
       "      <td>-53.070800</td>\n",
       "      <td>-53.072300</td>\n",
       "      <td>-53.072000</td>\n",
       "      <td>0.067924</td>\n",
       "      <td>0.000000</td>\n",
       "      <td>1.421918</td>\n",
       "    </tr>\n",
       "    <tr>\n",
       "      <th>25%</th>\n",
       "      <td>54166.75000</td>\n",
       "      <td>-26.605975</td>\n",
       "      <td>-26.557825</td>\n",
       "      <td>-26.518375</td>\n",
       "      <td>0.246644</td>\n",
       "      <td>1.000000</td>\n",
       "      <td>41.422987</td>\n",
       "    </tr>\n",
       "    <tr>\n",
       "      <th>50%</th>\n",
       "      <td>69346.50000</td>\n",
       "      <td>-0.114935</td>\n",
       "      <td>-0.001707</td>\n",
       "      <td>0.246875</td>\n",
       "      <td>0.277063</td>\n",
       "      <td>2.000000</td>\n",
       "      <td>52.236671</td>\n",
       "    </tr>\n",
       "    <tr>\n",
       "      <th>75%</th>\n",
       "      <td>84526.25000</td>\n",
       "      <td>26.449075</td>\n",
       "      <td>26.515525</td>\n",
       "      <td>26.522725</td>\n",
       "      <td>0.307483</td>\n",
       "      <td>4.000000</td>\n",
       "      <td>61.532371</td>\n",
       "    </tr>\n",
       "    <tr>\n",
       "      <th>max</th>\n",
       "      <td>99706.00000</td>\n",
       "      <td>53.069300</td>\n",
       "      <td>53.072200</td>\n",
       "      <td>53.071300</td>\n",
       "      <td>0.459886</td>\n",
       "      <td>31.000000</td>\n",
       "      <td>90.774653</td>\n",
       "    </tr>\n",
       "  </tbody>\n",
       "</table>\n",
       "</div>"
      ],
      "text/plain": [
       "                ID             x             y             z            Q6  \\\n",
       "count  60720.00000  60720.000000  60720.000000  60720.000000  60720.000000   \n",
       "mean   69346.50000     -0.046625     -0.008188     -0.002594      0.276680   \n",
       "std    17528.49851     30.635311     30.624634     30.623338      0.045565   \n",
       "min    38987.00000    -53.070800    -53.072300    -53.072000      0.067924   \n",
       "25%    54166.75000    -26.605975    -26.557825    -26.518375      0.246644   \n",
       "50%    69346.50000     -0.114935     -0.001707      0.246875      0.277063   \n",
       "75%    84526.25000     26.449075     26.515525     26.522725      0.307483   \n",
       "max    99706.00000     53.069300     53.072200     53.071300      0.459886   \n",
       "\n",
       "               Nc_6   dist_from_c  \n",
       "count  60720.000000  60720.000000  \n",
       "mean       3.725445     50.948510  \n",
       "std        4.845830     14.777960  \n",
       "min        0.000000      1.421918  \n",
       "25%        1.000000     41.422987  \n",
       "50%        2.000000     52.236671  \n",
       "75%        4.000000     61.532371  \n",
       "max       31.000000     90.774653  "
      ]
     },
     "execution_count": 8,
     "metadata": {},
     "output_type": "execute_result"
    }
   ],
   "source": [
    "split_dataframes = [df[i:i+NAT] for i in range(0, len(df), NAT)]\n",
    "sorted_chunks = [chunk.sort_values(by='ID') for chunk in split_dataframes]\n",
    "\n",
    "# If you want to see what the chunks look like, uncomment the lines below\n",
    "# for i, split_df in enumerate(sorted_chunks):\n",
    "#     print(f\"DataFrame {i + 1}:\")\n",
    "#     print(split_df)\n",
    "#     print()\n",
    "\n",
    "# Use the describe method to check the details of one of the chunks\n",
    "# count row must have values equal to NAT\n",
    "sorted_chunks[0].describe()\n"
   ]
  },
  {
   "cell_type": "markdown",
   "id": "7f6b3b0e",
   "metadata": {},
   "source": [
    "## One more feature (Displacement)\n",
    "\n",
    "\n",
    "### __How do we calculate the displacement feature?__   \n",
    "- For each snapshot, calculate the disp for each atom at four different 5ps snaps just before or after the snap\n",
    "- For e.g, the disp for 200ps is calculated as the average of the disp at 195 ps, 190ps, 185ps, 180ps\n",
    "- disp at 195: dist(r_195ps, r_190ps)\n",
    "- We need to pull out the coordinates from the HISTORY file to do so"
   ]
  },
  {
   "cell_type": "code",
   "execution_count": 9,
   "id": "af7d8756",
   "metadata": {},
   "outputs": [],
   "source": [
    "def periodic_distance(atom, nbd, box):\n",
    "    '''Inputs:\n",
    "        atom = coordinate of a single reference atom\n",
    "        nbd = array of coordinates of multiple atoms\n",
    "        box = length of the box\n",
    "       Outputs:\n",
    "        dis = distance between atom and nbd\n",
    "        len(dis) == len(nbd)\n",
    "    '''\n",
    "    delta = np.abs(atom-nbd)\n",
    "    delta = np.where(delta> 0.5*box, delta-box, delta)\n",
    "    dis = np.sqrt((delta**2).sum(axis=-1))\n",
    "    return dis"
   ]
  },
  {
   "cell_type": "code",
   "execution_count": 10,
   "id": "d78d3c7b",
   "metadata": {},
   "outputs": [
    {
     "name": "stderr",
     "output_type": "stream",
     "text": [
      "Processing: 100%|████████████████████████████████████████████████████████████████████████████████████████████████████████| 55836482/55836482 [01:22<00:00, 676083.24it/s]\n"
     ]
    },
    {
     "name": "stdout",
     "output_type": "stream",
     "text": [
      "(17001600, 3)\n",
      "Number of snaps in the HISTORY file is 280\n"
     ]
    }
   ],
   "source": [
    "from tqdm import tqdm\n",
    "\n",
    "search_string = \"O2\"\n",
    "found = False\n",
    "\n",
    "coords_A0=[]\n",
    "with open(\"B0/HISTORY\", \"r\") as file:\n",
    "    total_lines = sum(1 for _ in file)\n",
    "    file.seek(0)  # Reset the file pointer to the beginning\n",
    "    progress_bar = tqdm(total=total_lines, desc=\"Processing\")\n",
    "\n",
    "    for line in file:\n",
    "        progress_bar.update(1)  # Update the progress bar\n",
    "        if search_string in line:\n",
    "            found = True\n",
    "        elif found:\n",
    "            # Print or store the following line\n",
    "            coords_A0.append(np.asarray(line.split()).astype(float))  # or do something else with the line\n",
    "            found = False\n",
    "\n",
    "    progress_bar.close()  # Close the prog\n",
    "\n",
    "coords_A0 = np.asarray(coords_A0).astype(float)\n",
    "print(np.shape(coords_A0))\n",
    "print(f\"Number of snaps in the HISTORY file is {int(len(coords_A0)/NAT)}\")"
   ]
  },
  {
   "cell_type": "markdown",
   "id": "bf6cf9ba",
   "metadata": {},
   "source": [
    "- 100ps.lammps was taken from the 20st set of coordinates from the A0/HISTORY file. \n",
    "- choose the neighboring sets of coordianates to calculate the displacement. \n",
    "- 100ps - 20\n",
    "- 200ps - 40\n",
    "- 300ps - 60\n",
    "- 800ps - 160\n",
    "\n",
    "- if you want to pull out the 20set of coordinates you will need the slice coords_A0[19NAT:20NAT, :]\n",
    "\n",
    "- use coords_A0 for calculating disp for 100ps, 200ps, ............., 800ps.\n",
    " \n",
    "- skipping the calculation on 0ps ( start the loop at 1, i.e. chunks for 100ps)\n",
    "\n",
    "- choose snaps_A0 wisely: Remember how many snaps were taken from A0/HISTORY? Our last snap from A0/HISTORY was 800ps. So our loop must run for 8 iterations (100ps, 200ps, ............, 800ps)"
   ]
  },
  {
   "cell_type": "code",
   "execution_count": 11,
   "id": "f052b429",
   "metadata": {},
   "outputs": [
    {
     "name": "stdout",
     "output_type": "stream",
     "text": [
      "1.937002060238202 1.9709889917977443 1.924912613990549 1.916915920231431\n",
      "1.8962312060449067 1.8957632426312636 1.9169846328161948 1.9077383936573797\n",
      "1.9067307956901756 1.8767388381277519 1.8949645734619514 1.9184201877261695\n",
      "1.8445604517979555 1.84532278079886 1.87109132589962 1.890048472320076\n",
      "1.8433978684537324 1.841954576321654 1.8757919598568862 1.8600627186381002\n",
      "1.815188529138395 1.8161184974939442 1.8012938806829368 1.8286453336808548\n",
      "1.7769453664181938 1.7931396956015946 1.7635914203799707 1.7893907456397753\n",
      "1.7377929768233578 1.7531795908649488 1.7319789031810284 1.767655564177261\n",
      "1.7056515343385341 1.7329930094514092 1.7022606612711453 1.6901680167174733\n",
      "1.6866281168952129 1.680037785894555 1.638962618831344 1.665487795724826\n",
      "1.6526217602935473 1.6519480309092212 1.6054025730416086 1.6258334658968918\n",
      "1.6104906719142345 1.6129007426957473 1.5900281843831612 1.606929237310591\n",
      "1.5489045299322781 1.5368174564440675 1.5425575768419149 1.5584881642078092\n",
      "1.498452297789089 1.5166886155580397 1.5097853985703495 1.507155471537405\n"
     ]
    }
   ],
   "source": [
    "snaps_A0 = 14\n",
    "\n",
    "for ind in range(1, snaps_A0+1):\n",
    "    # Locate the starting index for the snapshot 100ps (if ind=1), 200ps(if ind=2),etc.\n",
    "    # 20th set will have slice indices [19*NAT, 20*NAT]\n",
    "    s1 = int((ind*100)/5.-1)*NAT\n",
    "    \n",
    "    snap_ = coords_A0[s1: s1+NAT, :]\n",
    "    nbd_1 = coords_A0[s1-NAT: s1, :]\n",
    "    nbd_2 = coords_A0[s1-2*NAT: s1-NAT, :]\n",
    "    nbd_3 = coords_A0[s1-3*NAT: s1-2*NAT, :]\n",
    "    nbd_4 = coords_A0[s1-4*NAT: s1-3*NAT, :]\n",
    "\n",
    "    d1 = periodic_distance(snap_, nbd_1, box[ind])\n",
    "    d2 = periodic_distance(nbd_1, nbd_2, box[ind])\n",
    "    d3 = periodic_distance(nbd_2, nbd_3, box[ind])\n",
    "    d4 = periodic_distance(nbd_3, nbd_4, box[ind])\n",
    "    print(np.mean(d1), np.mean(d2), np.mean(d3), np.mean(d4))\n",
    "\n",
    "    dist = 0.25*(d1+d2+d3+d4)\n",
    "    sorted_chunks[ind]['disp'] = dist"
   ]
  },
  {
   "cell_type": "code",
   "execution_count": 12,
   "id": "c5ad4f2c",
   "metadata": {},
   "outputs": [
    {
     "data": {
      "text/html": [
       "<div>\n",
       "<style scoped>\n",
       "    .dataframe tbody tr th:only-of-type {\n",
       "        vertical-align: middle;\n",
       "    }\n",
       "\n",
       "    .dataframe tbody tr th {\n",
       "        vertical-align: top;\n",
       "    }\n",
       "\n",
       "    .dataframe thead th {\n",
       "        text-align: right;\n",
       "    }\n",
       "</style>\n",
       "<table border=\"1\" class=\"dataframe\">\n",
       "  <thead>\n",
       "    <tr style=\"text-align: right;\">\n",
       "      <th></th>\n",
       "      <th>ID</th>\n",
       "      <th>x</th>\n",
       "      <th>y</th>\n",
       "      <th>z</th>\n",
       "      <th>Q6</th>\n",
       "      <th>Nc_6</th>\n",
       "      <th>dist_from_c</th>\n",
       "      <th>disp</th>\n",
       "    </tr>\n",
       "  </thead>\n",
       "  <tbody>\n",
       "    <tr>\n",
       "      <th>count</th>\n",
       "      <td>60720.00000</td>\n",
       "      <td>60720.000000</td>\n",
       "      <td>60720.000000</td>\n",
       "      <td>60720.000000</td>\n",
       "      <td>60720.000000</td>\n",
       "      <td>60720.000000</td>\n",
       "      <td>60720.000000</td>\n",
       "      <td>60720.000000</td>\n",
       "    </tr>\n",
       "    <tr>\n",
       "      <th>mean</th>\n",
       "      <td>69346.50000</td>\n",
       "      <td>0.017279</td>\n",
       "      <td>-0.122224</td>\n",
       "      <td>0.163733</td>\n",
       "      <td>0.286404</td>\n",
       "      <td>5.770833</td>\n",
       "      <td>53.616324</td>\n",
       "      <td>1.508020</td>\n",
       "    </tr>\n",
       "    <tr>\n",
       "      <th>std</th>\n",
       "      <td>17528.49851</td>\n",
       "      <td>32.260745</td>\n",
       "      <td>32.290786</td>\n",
       "      <td>32.242962</td>\n",
       "      <td>0.052766</td>\n",
       "      <td>6.218291</td>\n",
       "      <td>15.758922</td>\n",
       "      <td>0.890790</td>\n",
       "    </tr>\n",
       "    <tr>\n",
       "      <th>min</th>\n",
       "      <td>38987.00000</td>\n",
       "      <td>-56.320500</td>\n",
       "      <td>-56.320300</td>\n",
       "      <td>-56.319500</td>\n",
       "      <td>0.096001</td>\n",
       "      <td>0.000000</td>\n",
       "      <td>1.928322</td>\n",
       "      <td>0.173906</td>\n",
       "    </tr>\n",
       "    <tr>\n",
       "      <th>25%</th>\n",
       "      <td>54166.75000</td>\n",
       "      <td>-27.671800</td>\n",
       "      <td>-27.846925</td>\n",
       "      <td>-27.526075</td>\n",
       "      <td>0.249582</td>\n",
       "      <td>1.000000</td>\n",
       "      <td>43.311645</td>\n",
       "      <td>0.701196</td>\n",
       "    </tr>\n",
       "    <tr>\n",
       "      <th>50%</th>\n",
       "      <td>69346.50000</td>\n",
       "      <td>-0.028276</td>\n",
       "      <td>-0.153907</td>\n",
       "      <td>0.182716</td>\n",
       "      <td>0.285310</td>\n",
       "      <td>3.000000</td>\n",
       "      <td>54.910079</td>\n",
       "      <td>1.377861</td>\n",
       "    </tr>\n",
       "    <tr>\n",
       "      <th>75%</th>\n",
       "      <td>84526.25000</td>\n",
       "      <td>27.769525</td>\n",
       "      <td>27.625100</td>\n",
       "      <td>28.013575</td>\n",
       "      <td>0.322398</td>\n",
       "      <td>9.000000</td>\n",
       "      <td>64.961179</td>\n",
       "      <td>2.137482</td>\n",
       "    </tr>\n",
       "    <tr>\n",
       "      <th>max</th>\n",
       "      <td>99706.00000</td>\n",
       "      <td>56.317500</td>\n",
       "      <td>56.317800</td>\n",
       "      <td>56.319700</td>\n",
       "      <td>0.471156</td>\n",
       "      <td>34.000000</td>\n",
       "      <td>96.417260</td>\n",
       "      <td>6.323661</td>\n",
       "    </tr>\n",
       "  </tbody>\n",
       "</table>\n",
       "</div>"
      ],
      "text/plain": [
       "                ID             x             y             z            Q6  \\\n",
       "count  60720.00000  60720.000000  60720.000000  60720.000000  60720.000000   \n",
       "mean   69346.50000      0.017279     -0.122224      0.163733      0.286404   \n",
       "std    17528.49851     32.260745     32.290786     32.242962      0.052766   \n",
       "min    38987.00000    -56.320500    -56.320300    -56.319500      0.096001   \n",
       "25%    54166.75000    -27.671800    -27.846925    -27.526075      0.249582   \n",
       "50%    69346.50000     -0.028276     -0.153907      0.182716      0.285310   \n",
       "75%    84526.25000     27.769525     27.625100     28.013575      0.322398   \n",
       "max    99706.00000     56.317500     56.317800     56.319700      0.471156   \n",
       "\n",
       "               Nc_6   dist_from_c          disp  \n",
       "count  60720.000000  60720.000000  60720.000000  \n",
       "mean       5.770833     53.616324      1.508020  \n",
       "std        6.218291     15.758922      0.890790  \n",
       "min        0.000000      1.928322      0.173906  \n",
       "25%        1.000000     43.311645      0.701196  \n",
       "50%        3.000000     54.910079      1.377861  \n",
       "75%        9.000000     64.961179      2.137482  \n",
       "max       34.000000     96.417260      6.323661  "
      ]
     },
     "execution_count": 12,
     "metadata": {},
     "output_type": "execute_result"
    }
   ],
   "source": [
    "sorted_chunks[14].describe()"
   ]
  },
  {
   "cell_type": "markdown",
   "id": "d16f6297",
   "metadata": {},
   "source": [
    "__Great! We now have two new features added to our data__\n",
    "- Let us do the same for the A1/HISTORY"
   ]
  },
  {
   "cell_type": "code",
   "execution_count": 13,
   "id": "57f2273d",
   "metadata": {},
   "outputs": [
    {
     "name": "stderr",
     "output_type": "stream",
     "text": [
      "Processing: 100%|████████████████████████████████████████████████████████████████████████████████████████████████████████| 39524237/39524237 [00:58<00:00, 678759.66it/s]\n"
     ]
    },
    {
     "name": "stdout",
     "output_type": "stream",
     "text": [
      "(12032520, 3)\n",
      "Number of snaps in the HISTORY file is 198.\n"
     ]
    }
   ],
   "source": [
    "found = False\n",
    "\n",
    "coords_A1=[]\n",
    "with open(\"B1/HISTORY\", \"r\") as file:\n",
    "    total_lines = sum(1 for _ in file)\n",
    "    file.seek(0)  # Reset the file pointer to the beginning\n",
    "    progress_bar = tqdm(total=total_lines, desc=\"Processing\")\n",
    "    for line in file:\n",
    "        progress_bar.update(1)  # Update the progress bar\n",
    "        if search_string in line:\n",
    "            found = True\n",
    "        elif found:\n",
    "            coords_A1.append(np.asarray(line.split()).astype(float))  # or do something else with the line\n",
    "            found = False\n",
    "    progress_bar.close()  \n",
    "\n",
    "coords_A1 = np.asarray(coords_A1).astype(float)\n",
    "print(np.shape(coords_A1))\n",
    "print(f\"Number of snaps in the HISTORY file is {int(len(coords_A1)/NAT)}.\")"
   ]
  },
  {
   "cell_type": "markdown",
   "id": "90aff565",
   "metadata": {},
   "source": [
    "- 1500ps.lammps was taken from the 20th set of coordinates from the A1/HISTORY file. \n",
    "\n",
    "\n",
    "Let us use coords_A1 for calculating disp for 1500ps, 1600ps, ............., 2300ps."
   ]
  },
  {
   "cell_type": "code",
   "execution_count": 14,
   "id": "91628927",
   "metadata": {},
   "outputs": [
    {
     "name": "stdout",
     "output_type": "stream",
     "text": [
      "1.4410200799525357 1.4633817106821019 1.4560815711522428 1.4644249863786865\n",
      "1.3908679477859078 1.400614716541772 1.4245152376961967 1.4090734863134584\n",
      "1.3535336642332938 1.3553561065448607 1.357704402460268 1.3497114677181645\n",
      "1.2842297741353905 1.3010224671687924 1.3219345057771694 1.327098851850332\n",
      "1.2501092690544495 1.254982545371386 1.263928892657684 1.2828852077997066\n",
      "1.218284135883349 1.2301129015635754 1.2207201072832834 1.2339970562227052\n",
      "1.1714353733208092 1.1702212163844468 1.1772382487531872 1.1545707184422906\n",
      "1.1387400686549258 1.1404784725430785 1.129785521249375 1.116468413799107\n",
      "1.0618605701641581 1.0854512325826617 1.0755659671255395 1.0669313084167713\n"
     ]
    }
   ],
   "source": [
    "for ind in range(1,num_snaps-snaps_A0):\n",
    "    \n",
    "    s1 = int((ind*100)/5.-1)*NAT\n",
    "\n",
    "    snap_ = coords_A1[s1: s1+NAT, :]\n",
    "    nbd_1 = coords_A1[s1-NAT: s1, :]\n",
    "    nbd_2 = coords_A1[s1-2*NAT: s1-NAT, :]\n",
    "    nbd_3 = coords_A1[s1-3*NAT: s1-2*NAT, :]\n",
    "    nbd_4 = coords_A1[s1-4*NAT: s1-3*NAT, :]\n",
    "    \n",
    "    d1 = periodic_distance(snap_, nbd_1, box[ind])\n",
    "    d2 = periodic_distance(nbd_1, nbd_2, box[ind])\n",
    "    d3 = periodic_distance(nbd_2, nbd_3, box[ind])\n",
    "    d4 = periodic_distance(nbd_3, nbd_4, box[ind])\n",
    "    print(np.mean(d1), np.mean(d2), np.mean(d3), np.mean(d4))\n",
    "\n",
    "\n",
    "    dist = 0.25*(d1+d2+d3+d4)\n",
    "    sorted_chunks[ind+snaps_A0]['disp'] = dist"
   ]
  },
  {
   "cell_type": "code",
   "execution_count": 15,
   "id": "fd89482d",
   "metadata": {},
   "outputs": [
    {
     "data": {
      "text/html": [
       "<div>\n",
       "<style scoped>\n",
       "    .dataframe tbody tr th:only-of-type {\n",
       "        vertical-align: middle;\n",
       "    }\n",
       "\n",
       "    .dataframe tbody tr th {\n",
       "        vertical-align: top;\n",
       "    }\n",
       "\n",
       "    .dataframe thead th {\n",
       "        text-align: right;\n",
       "    }\n",
       "</style>\n",
       "<table border=\"1\" class=\"dataframe\">\n",
       "  <thead>\n",
       "    <tr style=\"text-align: right;\">\n",
       "      <th></th>\n",
       "      <th>ID</th>\n",
       "      <th>x</th>\n",
       "      <th>y</th>\n",
       "      <th>z</th>\n",
       "      <th>Q6</th>\n",
       "      <th>Nc_6</th>\n",
       "      <th>dist_from_c</th>\n",
       "      <th>disp</th>\n",
       "    </tr>\n",
       "  </thead>\n",
       "  <tbody>\n",
       "    <tr>\n",
       "      <th>count</th>\n",
       "      <td>60720.00000</td>\n",
       "      <td>60720.000000</td>\n",
       "      <td>60720.000000</td>\n",
       "      <td>60720.000000</td>\n",
       "      <td>60720.000000</td>\n",
       "      <td>60720.000000</td>\n",
       "      <td>60720.000000</td>\n",
       "      <td>60720.000000</td>\n",
       "    </tr>\n",
       "    <tr>\n",
       "      <th>mean</th>\n",
       "      <td>69346.50000</td>\n",
       "      <td>0.056318</td>\n",
       "      <td>-0.217646</td>\n",
       "      <td>0.198683</td>\n",
       "      <td>0.300641</td>\n",
       "      <td>9.849292</td>\n",
       "      <td>53.227582</td>\n",
       "      <td>1.072452</td>\n",
       "    </tr>\n",
       "    <tr>\n",
       "      <th>std</th>\n",
       "      <td>17528.49851</td>\n",
       "      <td>32.063728</td>\n",
       "      <td>31.979916</td>\n",
       "      <td>31.967151</td>\n",
       "      <td>0.054807</td>\n",
       "      <td>7.042071</td>\n",
       "      <td>15.477865</td>\n",
       "      <td>0.939838</td>\n",
       "    </tr>\n",
       "    <tr>\n",
       "      <th>min</th>\n",
       "      <td>38987.00000</td>\n",
       "      <td>-56.176600</td>\n",
       "      <td>-56.181800</td>\n",
       "      <td>-56.180400</td>\n",
       "      <td>0.098908</td>\n",
       "      <td>0.000000</td>\n",
       "      <td>1.915064</td>\n",
       "      <td>0.166063</td>\n",
       "    </tr>\n",
       "    <tr>\n",
       "      <th>25%</th>\n",
       "      <td>54166.75000</td>\n",
       "      <td>-27.338150</td>\n",
       "      <td>-27.665525</td>\n",
       "      <td>-27.112600</td>\n",
       "      <td>0.262521</td>\n",
       "      <td>3.000000</td>\n",
       "      <td>43.249795</td>\n",
       "      <td>0.547561</td>\n",
       "    </tr>\n",
       "    <tr>\n",
       "      <th>50%</th>\n",
       "      <td>69346.50000</td>\n",
       "      <td>0.015816</td>\n",
       "      <td>-0.288767</td>\n",
       "      <td>0.252420</td>\n",
       "      <td>0.300952</td>\n",
       "      <td>9.000000</td>\n",
       "      <td>54.532181</td>\n",
       "      <td>0.688646</td>\n",
       "    </tr>\n",
       "    <tr>\n",
       "      <th>75%</th>\n",
       "      <td>84526.25000</td>\n",
       "      <td>27.545150</td>\n",
       "      <td>27.165275</td>\n",
       "      <td>27.515625</td>\n",
       "      <td>0.340085</td>\n",
       "      <td>15.000000</td>\n",
       "      <td>64.145024</td>\n",
       "      <td>1.001961</td>\n",
       "    </tr>\n",
       "    <tr>\n",
       "      <th>max</th>\n",
       "      <td>99706.00000</td>\n",
       "      <td>56.179800</td>\n",
       "      <td>56.177700</td>\n",
       "      <td>56.181600</td>\n",
       "      <td>0.480463</td>\n",
       "      <td>32.000000</td>\n",
       "      <td>95.880248</td>\n",
       "      <td>7.604327</td>\n",
       "    </tr>\n",
       "  </tbody>\n",
       "</table>\n",
       "</div>"
      ],
      "text/plain": [
       "                ID             x             y             z            Q6  \\\n",
       "count  60720.00000  60720.000000  60720.000000  60720.000000  60720.000000   \n",
       "mean   69346.50000      0.056318     -0.217646      0.198683      0.300641   \n",
       "std    17528.49851     32.063728     31.979916     31.967151      0.054807   \n",
       "min    38987.00000    -56.176600    -56.181800    -56.180400      0.098908   \n",
       "25%    54166.75000    -27.338150    -27.665525    -27.112600      0.262521   \n",
       "50%    69346.50000      0.015816     -0.288767      0.252420      0.300952   \n",
       "75%    84526.25000     27.545150     27.165275     27.515625      0.340085   \n",
       "max    99706.00000     56.179800     56.177700     56.181600      0.480463   \n",
       "\n",
       "               Nc_6   dist_from_c          disp  \n",
       "count  60720.000000  60720.000000  60720.000000  \n",
       "mean       9.849292     53.227582      1.072452  \n",
       "std        7.042071     15.477865      0.939838  \n",
       "min        0.000000      1.915064      0.166063  \n",
       "25%        3.000000     43.249795      0.547561  \n",
       "50%        9.000000     54.532181      0.688646  \n",
       "75%       15.000000     64.145024      1.001961  \n",
       "max       32.000000     95.880248      7.604327  "
      ]
     },
     "execution_count": 15,
     "metadata": {},
     "output_type": "execute_result"
    }
   ],
   "source": [
    "# sorted_chunks[12].describe()\n",
    "sorted_chunks[23].describe()"
   ]
  },
  {
   "cell_type": "markdown",
   "id": "35cd4410",
   "metadata": {},
   "source": [
    "- Great the disp features has been added to 100ps, 200ps, .............., 1700ps\n",
    "## More features (d_5NN, N_N)\n",
    "\n",
    "\n",
    "### __How do we calculate these features?__   \n",
    "- __d_5NN__: average distance of 5 nearest neighbors with Nc > 10 \n",
    "- __N_N__: number of atoms with 5A that have Nc > 10"
   ]
  },
  {
   "cell_type": "code",
   "execution_count": 16,
   "id": "2985f9a1",
   "metadata": {},
   "outputs": [
    {
     "name": "stdout",
     "output_type": "stream",
     "text": [
      "Working on 100 ps.\n"
     ]
    },
    {
     "name": "stderr",
     "output_type": "stream",
     "text": [
      "0% [##############################] 100% | ETA: 00:00:00"
     ]
    },
    {
     "name": "stdout",
     "output_type": "stream",
     "text": [
      "Working on 200 ps.\n"
     ]
    },
    {
     "name": "stderr",
     "output_type": "stream",
     "text": [
      "\n",
      "Total time elapsed: 00:01:35\n",
      "0% [##############################] 100% | ETA: 00:00:00"
     ]
    },
    {
     "name": "stdout",
     "output_type": "stream",
     "text": [
      "Working on 300 ps.\n"
     ]
    },
    {
     "name": "stderr",
     "output_type": "stream",
     "text": [
      "\n",
      "Total time elapsed: 00:01:44\n",
      "0% [##############################] 100% | ETA: 00:00:00"
     ]
    },
    {
     "name": "stdout",
     "output_type": "stream",
     "text": [
      "Working on 400 ps.\n"
     ]
    },
    {
     "name": "stderr",
     "output_type": "stream",
     "text": [
      "\n",
      "Total time elapsed: 00:01:55\n",
      "0% [##############################] 100% | ETA: 00:00:00"
     ]
    },
    {
     "name": "stdout",
     "output_type": "stream",
     "text": [
      "Working on 500 ps.\n"
     ]
    },
    {
     "name": "stderr",
     "output_type": "stream",
     "text": [
      "\n",
      "Total time elapsed: 00:02:22\n",
      "0% [##############################] 100% | ETA: 00:00:00"
     ]
    },
    {
     "name": "stdout",
     "output_type": "stream",
     "text": [
      "Working on 600 ps.\n"
     ]
    },
    {
     "name": "stderr",
     "output_type": "stream",
     "text": [
      "\n",
      "Total time elapsed: 00:02:44\n",
      "0% [##############################] 100% | ETA: 00:00:00"
     ]
    },
    {
     "name": "stdout",
     "output_type": "stream",
     "text": [
      "Working on 700 ps.\n"
     ]
    },
    {
     "name": "stderr",
     "output_type": "stream",
     "text": [
      "\n",
      "Total time elapsed: 00:02:28\n",
      "0% [##############################] 100% | ETA: 00:00:00"
     ]
    },
    {
     "name": "stdout",
     "output_type": "stream",
     "text": [
      "Working on 800 ps.\n"
     ]
    },
    {
     "name": "stderr",
     "output_type": "stream",
     "text": [
      "\n",
      "Total time elapsed: 00:02:37\n",
      "0% [##############################] 100% | ETA: 00:00:00"
     ]
    },
    {
     "name": "stdout",
     "output_type": "stream",
     "text": [
      "Working on 900 ps.\n"
     ]
    },
    {
     "name": "stderr",
     "output_type": "stream",
     "text": [
      "\n",
      "Total time elapsed: 00:02:51\n",
      "0% [##############################] 100% | ETA: 00:00:00"
     ]
    },
    {
     "name": "stdout",
     "output_type": "stream",
     "text": [
      "Working on 1000 ps.\n"
     ]
    },
    {
     "name": "stderr",
     "output_type": "stream",
     "text": [
      "\n",
      "Total time elapsed: 00:03:04\n",
      "0% [##############################] 100% | ETA: 00:00:00"
     ]
    },
    {
     "name": "stdout",
     "output_type": "stream",
     "text": [
      "Working on 1100 ps.\n"
     ]
    },
    {
     "name": "stderr",
     "output_type": "stream",
     "text": [
      "\n",
      "Total time elapsed: 00:03:18\n",
      "0% [##############################] 100% | ETA: 00:00:00"
     ]
    },
    {
     "name": "stdout",
     "output_type": "stream",
     "text": [
      "Working on 1200 ps.\n"
     ]
    },
    {
     "name": "stderr",
     "output_type": "stream",
     "text": [
      "\n",
      "Total time elapsed: 00:03:37\n",
      "0% [##############################] 100% | ETA: 00:00:00"
     ]
    },
    {
     "name": "stdout",
     "output_type": "stream",
     "text": [
      "Working on 1300 ps.\n"
     ]
    },
    {
     "name": "stderr",
     "output_type": "stream",
     "text": [
      "\n",
      "Total time elapsed: 00:03:48\n",
      "0% [##############################] 100% | ETA: 00:00:00"
     ]
    },
    {
     "name": "stdout",
     "output_type": "stream",
     "text": [
      "Working on 1400 ps.\n"
     ]
    },
    {
     "name": "stderr",
     "output_type": "stream",
     "text": [
      "\n",
      "Total time elapsed: 00:04:03\n",
      "0% [##############################] 100% | ETA: 00:00:00"
     ]
    },
    {
     "name": "stdout",
     "output_type": "stream",
     "text": [
      "Working on 1500 ps.\n"
     ]
    },
    {
     "name": "stderr",
     "output_type": "stream",
     "text": [
      "\n",
      "Total time elapsed: 00:04:19\n",
      "0% [##############################] 100% | ETA: 00:00:00"
     ]
    },
    {
     "name": "stdout",
     "output_type": "stream",
     "text": [
      "Working on 1600 ps.\n"
     ]
    },
    {
     "name": "stderr",
     "output_type": "stream",
     "text": [
      "\n",
      "Total time elapsed: 00:04:40\n",
      "0% [##############################] 100% | ETA: 00:00:00"
     ]
    },
    {
     "name": "stdout",
     "output_type": "stream",
     "text": [
      "Working on 1700 ps.\n"
     ]
    },
    {
     "name": "stderr",
     "output_type": "stream",
     "text": [
      "\n",
      "Total time elapsed: 00:05:07\n",
      "0% [##############################] 100% | ETA: 00:00:00"
     ]
    },
    {
     "name": "stdout",
     "output_type": "stream",
     "text": [
      "Working on 1800 ps.\n"
     ]
    },
    {
     "name": "stderr",
     "output_type": "stream",
     "text": [
      "\n",
      "Total time elapsed: 00:05:32\n",
      "0% [##############################] 100% | ETA: 00:00:00"
     ]
    },
    {
     "name": "stdout",
     "output_type": "stream",
     "text": [
      "Working on 1900 ps.\n"
     ]
    },
    {
     "name": "stderr",
     "output_type": "stream",
     "text": [
      "\n",
      "Total time elapsed: 00:05:45\n",
      "0% [##############################] 100% | ETA: 00:00:00"
     ]
    },
    {
     "name": "stdout",
     "output_type": "stream",
     "text": [
      "Working on 2000 ps.\n"
     ]
    },
    {
     "name": "stderr",
     "output_type": "stream",
     "text": [
      "\n",
      "Total time elapsed: 00:06:13\n",
      "0% [##############################] 100% | ETA: 00:00:00"
     ]
    },
    {
     "name": "stdout",
     "output_type": "stream",
     "text": [
      "Working on 2100 ps.\n"
     ]
    },
    {
     "name": "stderr",
     "output_type": "stream",
     "text": [
      "\n",
      "Total time elapsed: 00:06:24\n",
      "0% [##############################] 100% | ETA: 00:00:00"
     ]
    },
    {
     "name": "stdout",
     "output_type": "stream",
     "text": [
      "Working on 2200 ps.\n"
     ]
    },
    {
     "name": "stderr",
     "output_type": "stream",
     "text": [
      "\n",
      "Total time elapsed: 00:07:04\n",
      "0% [##############################] 100% | ETA: 00:00:00"
     ]
    },
    {
     "name": "stdout",
     "output_type": "stream",
     "text": [
      "Working on 2300 ps.\n"
     ]
    },
    {
     "name": "stderr",
     "output_type": "stream",
     "text": [
      "\n",
      "Total time elapsed: 00:07:20\n",
      "0% [##############################] 100% | ETA: 00:00:00\n",
      "Total time elapsed: 00:07:44\n"
     ]
    }
   ],
   "source": [
    "for ind in range(1,num_snaps):\n",
    "    '''num_neigh_list = list of number of neighbors within 5A with Nc > 10\n",
    "       avg_neigh_dist = average distance of 5 nearest neighbors with Nc > 10\n",
    "    '''\n",
    "    num_neigh_list, avg_neigh_dist = [], []\n",
    "    df_snap=sorted_chunks[ind]\n",
    "    print(f\"Working on {ind*100} ps.\")\n",
    "    prog_bar = pyprind.ProgBar(len(df_snap))\n",
    "    for j in range(len(df_snap)):\n",
    "        filtered_particles = df_snap[df_snap['Nc_6'] > 10]\n",
    "        particle_row = df_snap.iloc[j]\n",
    "        coordinates = [particle_row['x'], particle_row['y'], particle_row['z']]\n",
    "        distances = periodic_distance(coordinates, filtered_particles[['x','y','z']], box[ind])\n",
    "        sorted_distances = np.sort(distances)\n",
    "        # List of 5 nearest neighbors with Nc > 10\n",
    "        # If the reference atom itself has Nc > 10, the min value of distance will be 0 and that must be removed\n",
    "        nbd_5 = np.mean(sorted_distances[1:6]) if sorted_distances[0] == 0\\\n",
    "                else np.mean(sorted_distances[:5])\n",
    "        avg_neigh_dist.append(nbd_5)\n",
    "        \n",
    "        num_neigh = (len([x for x in distances if x < 5.0]) -1) if min(distances) == 0\\\n",
    "                    else len([x for x in distances if x < 5.0])    \n",
    "        num_neigh_list.append(num_neigh)\n",
    "        prog_bar.update()\n",
    "# Add the list as a column to the dataframe chunk\n",
    "    sorted_chunks[ind]['d_5NN'] = avg_neigh_dist\n",
    "    sorted_chunks[ind]['N_N'] = num_neigh_list\n"
   ]
  },
  {
   "cell_type": "code",
   "execution_count": 17,
   "id": "18da11d2",
   "metadata": {},
   "outputs": [
    {
     "name": "stdout",
     "output_type": "stream",
     "text": [
      "CSV files saved successfully.\n"
     ]
    }
   ],
   "source": [
    "import pandas as pd\n",
    "import os\n",
    "\n",
    "# Create a directory to store CSV files\n",
    "output_directory = \"features_csv\"\n",
    "os.makedirs(output_directory, exist_ok=True)\n",
    "\n",
    "# Loop through the DataFrames and save them as CSV files\n",
    "for ind in range(1, num_snaps):\n",
    "    # Define the file name (you can customize this)\n",
    "    file_name = os.path.join(output_directory, f\"{ind*100}.csv\")\n",
    "    \n",
    "    # Save the DataFrame as a CSV file\n",
    "    sorted_chunks[ind].to_csv(file_name, index=False)\n",
    "\n",
    "print(\"CSV files saved successfully.\")\n"
   ]
  },
  {
   "cell_type": "markdown",
   "id": "7fe24aba",
   "metadata": {},
   "source": [
    "__Let us look at how our variables are correlated__\n"
   ]
  },
  {
   "cell_type": "code",
   "execution_count": 35,
   "id": "c1042b09",
   "metadata": {},
   "outputs": [
    {
     "data": {
      "image/png": "[encoded data removed]",
      "text/plain": [
       "<Figure size 1000x800 with 1 Axes>"
      ]
     },
     "metadata": {},
     "output_type": "display_data"
    }
   ],
   "source": [
    "import seaborn as sns\n",
    "import matplotlib.pyplot as plt\n",
    "\n",
    "NN_disp_corr, NN_Nc_corr, NN_dist_corr = [],[],[]\n",
    "for ind in range(1,num_snaps):\n",
    "    data = sorted_chunks[ind][['Q6','Nc_6','disp','N_N','dist_from_c']]\n",
    "    correlation_matrix = data.corr()\n",
    "    NN_dist_corr.append(correlation_matrix['N_N'][4])\n",
    "    NN_disp_corr.append(correlation_matrix['N_N'][2])\n",
    "    NN_Nc_corr.append(correlation_matrix['N_N'][1])\n",
    "# Create a heatmap of the correlation matrix\n",
    "plt.figure(figsize=(10, 8))\n",
    "plt.plot(NN_disp_corr, label=\"NN-disp\")\n",
    "plt.plot(NN_dist_corr, label=\"NN-dist\")\n",
    "# plt.plot(NN_Nc_corr, label=\"NN-Nc\")\n",
    "plt.legend()\n",
    "# plt.savefig(\"conf_mat.png\",dpi=500,bbox_inches='tight')\n",
    "plt.show()\n"
   ]
  },
  {
   "cell_type": "code",
   "execution_count": 36,
   "id": "a13a4cde",
   "metadata": {},
   "outputs": [
    {
     "data": {
      "image/png": "[encoded data removed]",
      "text/plain": [
       "<Figure size 1000x800 with 2 Axes>"
      ]
     },
     "metadata": {},
     "output_type": "display_data"
    }
   ],
   "source": [
    "# Create a heatmap of the correlation matrix in the last snapshot\n",
    "plt.figure(figsize=(10, 8))\n",
    "sns.heatmap(correlation_matrix, annot=True, cmap='coolwarm', fmt=\".2f\")\n",
    "plt.savefig(\"conf_mat.png\",dpi=500,bbox_inches='tight')\n",
    "plt.show()\n"
   ]
  },
  {
   "cell_type": "markdown",
   "id": "ff4f93f1",
   "metadata": {},
   "source": [
    "__Save the cluster size evolution in to a file__"
   ]
  },
  {
   "cell_type": "code",
   "execution_count": 66,
   "id": "15b41b41",
   "metadata": {},
   "outputs": [],
   "source": [
    "np.savetxt(\"c_size_evol.txt\", n_atoms_per_cluster, delimiter='\\t', fmt='%d')\n"
   ]
  },
  {
   "cell_type": "markdown",
   "id": "40b369d7",
   "metadata": {},
   "source": [
    "__Save the dataframes with all features so that you need not do the calculation again__\n"
   ]
  },
  {
   "cell_type": "code",
   "execution_count": 71,
   "id": "a965a241",
   "metadata": {},
   "outputs": [
    {
     "name": "stdout",
     "output_type": "stream",
     "text": [
      "CSV files saved successfully.\n"
     ]
    }
   ],
   "source": [
    "import pandas as pd\n",
    "import os\n",
    "\n",
    "# Create a directory to store CSV files\n",
    "output_directory = \"csv_files\"\n",
    "os.makedirs(output_directory, exist_ok=True)\n",
    "\n",
    "# Loop through the DataFrames and save them as CSV files\n",
    "for ind in range(1, num_snaps):\n",
    "    # Define the file name (you can customize this)\n",
    "    file_name = os.path.join(output_directory, f\"{ind*100}.csv\")\n",
    "    \n",
    "    # Save the DataFrame as a CSV file\n",
    "    sorted_chunks[ind].to_csv(file_name, index=False)\n",
    "\n",
    "print(\"CSV files saved successfully.\")\n"
   ]
  },
  {
   "cell_type": "code",
   "execution_count": null,
   "id": "07f7e0c6",
   "metadata": {},
   "outputs": [],
   "source": []
  }
 ],
 "metadata": {
  "kernelspec": {
   "display_name": "Python 3 (ipykernel)",
   "language": "python",
   "name": "python3"
  },
  "language_info": {
   "codemirror_mode": {
    "name": "ipython",
    "version": 3
   },
   "file_extension": ".py",
   "mimetype": "text/x-python",
   "name": "python",
   "nbconvert_exporter": "python",
   "pygments_lexer": "ipython3",
   "version": "3.10.9"
  }
 },
 "nbformat": 4,
 "nbformat_minor": 5
}
